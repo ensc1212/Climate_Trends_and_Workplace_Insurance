{
 "cells": [
  {
   "cell_type": "markdown",
   "metadata": {},
   "source": [
    "<img src=\"http://imgur.com/1ZcRyrc.png\" style=\"float: left; margin: 20px; height: 55px\">\n",
    "\n",
    "# Project 1: Data Analysis of Singapore Rainfall"
   ]
  },
  {
   "cell_type": "markdown",
   "metadata": {},
   "source": [
    "--- \n",
    "# Part 1\n",
    "\n",
    "\n",
    "---"
   ]
  },
  {
   "cell_type": "markdown",
   "metadata": {},
   "source": [
    "### Contents:\n",
    "- [Background](#Background)\n",
    "- [Data Import & Cleaning](#Data-Import-and-Cleaning)\n",
    "- [Exploratory Data Analysis](#Exploratory-Data-Analysis)\n",
    "- [Data Visualization](#Visualize-the-Data)\n",
    "- [Conclusions and Recommendations](#Conclusions-and-Recommendations)"
   ]
  },
  {
   "cell_type": "markdown",
   "metadata": {},
   "source": [
    "## Background"
   ]
  },
  {
   "cell_type": "markdown",
   "metadata": {},
   "source": [
    "According to the [Meteorological Services Singapore](http://www.weather.gov.sg/climate-climate-of-singapore/#:~:text=Singapore%20is%20situated%20near%20the,month%2Dto%2Dmonth%20variation.), Singapore has typical tropical climate with adundant rainfall, high and uniform temperatures and high humidity all year round, since its situated near the equator. There are many factors that help us understand the climate of a country and in this project we are going to look into a few, especially rainfall.\n",
    "\n",
    "Singapore’s climate is characterised by two main monsoon seasons separated by inter-monsoonal periods.  The **Northeast Monsoon** occurs from December to early March, and the **Southwest Monsoon** from June to September.\n",
    "\n",
    "The major weather systems affecting Singapore that can lead to heavy rainfall are:\n",
    "\n",
    "-Monsoon surges, or strong wind episodes in the Northeast Monsoon flow bringing about major rainfall events;\n",
    "\n",
    "-Sumatra squalls, an organised line of thunderstorms travelling eastward across Singapore, having developed over the island of Sumatra or Straits of Malacca west of us;\n",
    "\n",
    "-Afternoon and evening thunderstorms caused by strong surface heating and by the sea breeze circulation that develops in the afternoon.\n",
    "\n",
    "Singapore’s climate station has been located at several different sites in the past 140 years. The station had been decommissioned at various points in the past due to changes to local land use in the site’s vicinity, and had to be relocated. Since 1984, the climate station has been located at **Changi**.\n",
    "\n",
    "There are other metrics of climate such as temperature, humidity, sun shine duration, wind speed, cloud cover etc. All weather datasets used in the project come from [data.gov.sg](data.gov.sg), as recorded at the Changi climate station.\n",
    "\n",
    "Dataset of workplace accidents used in the project comes from Ministry of Manpower (Annual Reports)."
   ]
  },
  {
   "cell_type": "markdown",
   "metadata": {},
   "source": [
    "There are 11 datasets included in the [`data`](../data/) folder for this project. These correspond to rainfall and workplace injury information. \n",
    "\n",
    "* [`rainfall-monthly-highest-daily-total.csv`](../data/rainfall-monthly-highest-daily-total.csv): The highest daily total rainfall for the month recorded at the Changi Climate Station.\n",
    "* [`rainfall-monthly-number-of-rain-days.csv`](../data/rainfall-monthly-number-of-rain-days.csv): Monthly number of rain days from 1982 to 2022. A day is considered to have “rained” if the total rainfall for that day is 0.2mm or more.\n",
    "* [`rainfall-monthly-total.csv'`](../data/rainfall-monthly-total.csv'): The total monthly rainfall recorded at the Changi Climate Station.\n",
    "* [`relative-humidity-monthly-mean.csv`](../data/relative-humidity-monthly-mean.csv'): The monthly mean relative humidity recorded at the Changi Climate Station.\n",
    "*  [`relative-humidity-absolute-monthly-extreme-minimum.csv`](../data/relative-humidity-absolute-monthly-extreme-minimum.csv'): The absolute extreme minimum relative humidity for the month recorded at the Changi Climate Station.\n",
    "* [`sunshine-duration-monthly-mean-daily-duration.csv`](../data/sunshine-duration-monthly-mean-daily-duration.csv): The monthly mean sunshine hours in a day recorded at the Changi Climate Station.\n",
    "* [`surface-air-temperature-monthly-mean.csv`](../data/surface-air-temperature-monthly-mean.csv): The monthly mean air temperature recorded at the Changi Climate Station.\n",
    "*  [`surface-air-temperature-monthly-mean-daily-minimum.csv`](../data/surface-air-temperature-monthly-mean-daily-minimum.csv): The monthly mean daily minimum temperature recorded at the Changi Climate Station.\n",
    "*  [`surface-air-temperature-monthly-mean-daily-maximum.csv`](../data/surface-air-temperature-monthly-mean-daily-maximum.csv): The monthly mean daily maximum temperature recorded at the Changi Climate Station.\n",
    "*  [`wet-bulb-temperature-hourly.csv`](../data/wet-bulb-temperature-hourly.csv): The monthly mean hourly wet bulb temperature recorded at the Changi Climate Station. Wet bulb temperature mirrors how the human body cools itself with sweat.\n",
    "* [`workplace-accidents-years.csv`](./data/workplace-accidents-years.csv): The number of cases of work place injuries in a year, grouped by type of injury and industry of workplace."
   ]
  },
  {
   "cell_type": "markdown",
   "metadata": {},
   "source": [
    "## Problem Statement"
   ]
  },
  {
   "cell_type": "markdown",
   "metadata": {},
   "source": [
    "You are a data analyst at an insurance company that attended a forum held by the Singapore Actuarial Society on how the insurance industry may be impacted by climate change across the world. You are concerned and wish to understand if the same trends apply to Singapore and have identified workplace safety to be a key area of interest. This analysis will identify weather patterns in Singapore and its implication on workplace related insurance."
   ]
  },
  {
   "cell_type": "markdown",
   "metadata": {},
   "source": [
    "### Outside Research"
   ]
  },
  {
   "cell_type": "markdown",
   "metadata": {},
   "source": [
    "Studies have explored the relationship between weather and workplace safety and found that climate trends can have an adverse impact on workplace safety and actuarial models.  \n",
    "\n",
    "According to a UCLA study, \"Hotter temperature increases workplace injuries significantly, causing approximately 20,000 additionalinjuries per year and an estimated social cost of $1 billion.\" (Park et al., 2021). This study was done based on data from California’s workers’ compensation system.\n",
    "\n",
    "In a separate study done by the Institute and Faculty of Actuaries, UK, \"Climate change also has wide-reaching implications for the work done by actuaries through its potential to impact human health and mortality, the economy and financial stability, the risks people and businesses face from natural disasters and the value of assets held by insurers and pension schemes.\" (Storey et al., 2019).\n",
    "\n",
    "In order to analyze if the same trends apply to Singapore's context, localised workplace accident data was obtained from Singapore's Ministry of Manpower's annual workplace safety and health (WSH) reports. "
   ]
  },
  {
   "cell_type": "markdown",
   "metadata": {},
   "source": []
  },
  {
   "cell_type": "markdown",
   "metadata": {},
   "source": [
    "### Coding Challenges\n",
    "\n",
    "1. Manually calculate mean:\n",
    "\n",
    "    Write a function that takes in values and returns the mean of the values. Create a list of numbers that you test on your function to check to make sure your function works!\n",
    "    \n",
    "    *Note*: Do not use any mean methods built-in to any Python libraries to do this! This should be done without importing any additional libraries."
   ]
  },
  {
   "cell_type": "code",
   "execution_count": 82,
   "metadata": {},
   "outputs": [
    {
     "data": {
      "text/plain": [
       "18.0"
      ]
     },
     "execution_count": 82,
     "metadata": {},
     "output_type": "execute_result"
    }
   ],
   "source": [
    "# Code:\n",
    "def find_mean(test_lst):\n",
    "    total = 0\n",
    "    count = 0\n",
    "    for i in test_lst:\n",
    "        total += i\n",
    "        count += 1\n",
    "    ans = total / count\n",
    "    return ans\n",
    "\n",
    "test_lst = [10, 12, 23, 23, 16, 23, 21, 16]\n",
    "\n",
    "find_mean(test_lst)"
   ]
  },
  {
   "cell_type": "markdown",
   "metadata": {},
   "source": [
    "2. Manually calculate standard deviation:\n",
    "\n",
    "    The formula for standard deviation is below:\n",
    "\n",
    "    $$\\sigma = \\sqrt{\\frac{1}{n}\\sum_{i=1}^n(x_i - \\mu)^2}$$\n",
    "\n",
    "    Where $x_i$ represents each value in the dataset, $\\mu$ represents the mean of all values in the dataset and $n$ represents the number of values in the dataset.\n",
    "\n",
    "    Write a function that takes in values and returns the standard deviation of the values using the formula above. Hint: use the function you wrote above to calculate the mean! Use the list of numbers you created above to test on your function.\n",
    "    \n",
    "    *Note*: Do not use any standard deviation methods built-in to any Python libraries to do this! This should be done without importing any additional libraries."
   ]
  },
  {
   "cell_type": "code",
   "execution_count": 83,
   "metadata": {},
   "outputs": [
    {
     "data": {
      "text/plain": [
       "4.898979485566356"
      ]
     },
     "execution_count": 83,
     "metadata": {},
     "output_type": "execute_result"
    }
   ],
   "source": [
    "# Code:\n",
    "def std_dev(test_lst):\n",
    "    total = 0\n",
    "    count = 0\n",
    "    for i in test_lst:\n",
    "        total += (i - find_mean(test_lst)) ** 2\n",
    "        count += 1\n",
    "    ans = (total / count) ** 0.5\n",
    "    return ans\n",
    "\n",
    "std_dev(test_lst)"
   ]
  },
  {
   "cell_type": "markdown",
   "metadata": {},
   "source": [
    "--- \n",
    "# Part 2\n",
    "\n",
    "\n",
    "---"
   ]
  },
  {
   "cell_type": "markdown",
   "metadata": {},
   "source": [
    "### Import Libraries"
   ]
  },
  {
   "cell_type": "markdown",
   "metadata": {},
   "source": [
    "*All libraries used should be added here*"
   ]
  },
  {
   "cell_type": "code",
   "execution_count": 84,
   "metadata": {},
   "outputs": [],
   "source": [
    "# Imports:\n",
    "import numpy as np\n",
    "import pandas as pd\n",
    "import seaborn as sns\n",
    "import matplotlib.pyplot as plt\n",
    "from scipy.stats import skew\n",
    "from scipy.stats import shapiro\n",
    "\n",
    "from IPython.display import HTML\n",
    "\n",
    "%config InlineBackend.figure_format = 'retina'"
   ]
  },
  {
   "cell_type": "markdown",
   "metadata": {},
   "source": [
    "Create some useful lists."
   ]
  },
  {
   "cell_type": "code",
   "execution_count": 85,
   "metadata": {},
   "outputs": [],
   "source": [
    "# list months and years for sorting plts\n",
    "lst_months=['Jan', 'Feb', 'Mar', 'Apr', 'May', 'Jun', 'Jul', 'Aug', 'Sep','Oct', 'Nov', 'Dec']\n",
    "lst_years = []\n",
    "for i in range(1982,2023):  \n",
    "    lst_years.append(str(i))"
   ]
  },
  {
   "cell_type": "markdown",
   "metadata": {},
   "source": [
    "Define some useful fuctions."
   ]
  },
  {
   "cell_type": "code",
   "execution_count": 86,
   "metadata": {},
   "outputs": [],
   "source": [
    "def remove_outlier(df, col):\n",
    "    q1 = df[col].quantile(0.25)\n",
    "    q3 = df[col].quantile(0.75)\n",
    "    iqr = q3-q1 #Interquartile range\n",
    "    low  = q1-1.5*iqr\n",
    "    high = q3+1.5*iqr\n",
    "    filt_df = df.loc[(df[col] > low) & (df[col] < high)]\n",
    "    return filt_df\n",
    "\n",
    "def count_outlier(df, col):\n",
    "    q1 = df[col].quantile(0.25)\n",
    "    q3 = df[col].quantile(0.75)\n",
    "    iqr = q3-q1 #Interquartile range\n",
    "    low  = q1-1.5*iqr\n",
    "    high = q3+1.5*iqr\n",
    "    count = len(df[(df[col] <= low) | (df[col] >= high)])\n",
    "    return print(f\"Number of outliers for {col} is {count}\")"
   ]
  },
  {
   "cell_type": "code",
   "execution_count": 87,
   "metadata": {},
   "outputs": [],
   "source": [
    "# function for comparing std of periods\n",
    "def compare_std(df, col, period):\n",
    "    df['year'] = df['date'].dt.strftime('%Y')\n",
    "    year=1981\n",
    "    lst_std=[]\n",
    "    lst_period=[]\n",
    "    while year + period <= 2022:\n",
    "        lst_year=[]\n",
    "        for i in range(period):\n",
    "            year +=1\n",
    "            lst_year.append(str(year))\n",
    "        lst_period.append(str(lst_year[0])+' - '+str(lst_year[-1]))\n",
    "        lst_std.append(df.loc[df['year'].isin(lst_year),col].std())\n",
    "    return lst_period,lst_std\n",
    "        \n",
    "def compare_boxplot(df,col,period,title,ylabel):\n",
    "    fig, axes = plt.subplots((41//period), 1, figsize=(3, 3), sharex=True)\n",
    "    year=1981\n",
    "    count=-1\n",
    "    while year + period <= 2022:\n",
    "        lst_year=[]\n",
    "        count+=1\n",
    "        for i in range(period):\n",
    "            year +=1\n",
    "            lst_year.append(str(year))\n",
    "        sns.boxplot(df.loc[df['year'].isin(lst_year)], x=col,color='lightsteelblue',ax=axes[count])\n",
    "        \n",
    "def compare_lineplot_period(df,col,period,title,ylabel,start_yr,lst_col):\n",
    "    fig, axes = plt.subplots()\n",
    "    count=-1\n",
    "    lst_period=[]\n",
    "    while start_yr - 1 + period <= 2022:\n",
    "        lst_year=[]\n",
    "        count+=1\n",
    "        for i in range(period):\n",
    "            start_yr +=1\n",
    "            lst_year.append(str(start_yr-1))\n",
    "        lst_period.append(str(lst_year[0])+' - '+str(lst_year[-1]))\n",
    "        sns.lineplot(df.loc[df['year'].isin(lst_year)], x='month',y=col,color=lst_col[count],legend='auto', label=lst_period[count],ax=axes).set(title=title,ylabel=ylabel)\n",
    "    axes.legend(bbox_to_anchor=(1.02,1), loc='upper left', borderaxespad=0)\n",
    "    axes.set_xticks(range(len(lst_months)),labels=lst_months)\n",
    "    \n",
    "def compare_std_period(org_df,filt_df,col,period,title):\n",
    "    org_df['year'] = org_df['date'].dt.strftime('%Y')\n",
    "    std_array=compare_std(filt_df, col, period)\n",
    "    # convert array to dataframe\n",
    "    std_df = pd.DataFrame(std_array)\n",
    "    # transpose\n",
    "    std_df = std_df.T\n",
    "    # add column names\n",
    "    std_df.columns = ['Period', 'Std Dev']\n",
    "    # set col as index\n",
    "    std_df.set_index(std_df[\"Period\"])\n",
    "    # plot line plot of std over period\n",
    "    fig, axes = plt.subplots()\n",
    "    sns.lineplot(std_df,x=std_df['Period'],y=std_df['Std Dev'],ax=axes).set(title=title)\n",
    "    axes.tick_params(rotation=45, labelsize=10)"
   ]
  },
  {
   "cell_type": "code",
   "execution_count": 88,
   "metadata": {},
   "outputs": [],
   "source": [
    "# create function for statistical data\n",
    "def normality(df, col):\n",
    "    stat, p = shapiro(df[col])\n",
    "    alpha = 0.05\n",
    "    nl = '\\n'\n",
    "    if p > alpha:\n",
    "        return f\"p: {p}{nl}Since p > {alpha}, it cannot be concluded that {col} does not follow a normal distribution (fail to reject H0)\"\n",
    "    else:\n",
    "        return f\"p: {p}{nl}Since p <= {alpha}, it can be concluded that {col} does not follow a normal distribution (reject H0)\"\n",
    "      \n",
    "\n",
    "def skewness(df,col):\n",
    "    if skew(df[col]) == 0:\n",
    "        pos_neg='not'\n",
    "    elif skew(df[col]) > 0:\n",
    "        pos_neg='positively'\n",
    "    else:\n",
    "        pos_neg='negatively'\n",
    "    return f\"Distribution of {col} is {pos_neg} skewed, with skew at: {skew(df[col])}\"\n",
    "\n",
    "def statistical_data(df,col):\n",
    "    nl = '\\n'\n",
    "    return f\"Statistical Data for {col}{nl}Mean: {df[col].mean()}{nl}Standard Deviation: {df[col].std()}{nl}{normality(df, col)}{nl}{skewness(df,col)}\""
   ]
  },
  {
   "cell_type": "code",
   "execution_count": 89,
   "metadata": {},
   "outputs": [],
   "source": [
    "def corr_strength(df,col1,col2):\n",
    "    if -0.2 >= df[col1].corr(df[col2]) > -0.4:\n",
    "        strength='weak negative'\n",
    "    elif -0.4 >= df[col1].corr(df[col2]) > -0.6:\n",
    "        strength='moderate negative'\n",
    "    elif -0.6 >= df[col1].corr(df[col2]) > -0.8:\n",
    "        strength='strong negative'\n",
    "    elif -0.8 >= df[col1].corr(df[col2]) >= -1:\n",
    "        strength='strong negative'\n",
    "    elif 0.2 <= df[col1].corr(df[col2]) < 0.4:\n",
    "        strength='weak positive'\n",
    "    elif 0.4 <= df[col1].corr(df[col2]) < 0.6:\n",
    "        strength='moderate positive'\n",
    "    elif 0.6 <= df[col1].corr(df[col2]) < 0.8:\n",
    "        strength='strong positive'\n",
    "    elif 0.8 <= df[col1].corr(df[col2]) <= 1:\n",
    "        strength='very strong positive'\n",
    "    return print(f\"Correlation between {col1} and {col2} is {df[col1].corr(df[col2])} which indicates a {strength} correlation between the two variables.\")"
   ]
  },
  {
   "cell_type": "code",
   "execution_count": 90,
   "metadata": {},
   "outputs": [],
   "source": [
    "def remove_outliers_reg(df,col1, col2,title,xlabel,ylabel):\n",
    "    col_filt_1 = remove_outlier(df, col1)\n",
    "    col_filt_2 = remove_outlier(df, col2)\n",
    "    filt=pd.concat([col_filt_1, col_filt_2], join=\"outer\")\n",
    "    sns.regplot(data=filt, x=col1, y=col2,scatter_kws={\"color\": \"cornflowerblue\"},line_kws={\"color\": \"orange\",'alpha':0.7}).set(title=title, xlabel=xlabel, ylabel=ylabel)\n",
    "    corr_strength(df,col1,col2)"
   ]
  },
  {
   "cell_type": "markdown",
   "metadata": {},
   "source": [
    "## Data Import and Cleaning"
   ]
  },
  {
   "cell_type": "markdown",
   "metadata": {},
   "source": [
    "### Import Datasets"
   ]
  },
  {
   "cell_type": "code",
   "execution_count": 91,
   "metadata": {
    "scrolled": true
   },
   "outputs": [
    {
     "ename": "PermissionError",
     "evalue": "[Errno 1] Operation not permitted: '../data/rainfall-monthly-highest-daily-total.csv'",
     "output_type": "error",
     "traceback": [
      "\u001b[0;31m---------------------------------------------------------------------------\u001b[0m",
      "\u001b[0;31mPermissionError\u001b[0m                           Traceback (most recent call last)",
      "Cell \u001b[0;32mIn[91], line 2\u001b[0m\n\u001b[1;32m      1\u001b[0m \u001b[38;5;66;03m# Import the csv into a pandas DataFrame\u001b[39;00m\n\u001b[0;32m----> 2\u001b[0m h_daily_total \u001b[38;5;241m=\u001b[39m \u001b[43mpd\u001b[49m\u001b[38;5;241;43m.\u001b[39;49m\u001b[43mread_csv\u001b[49m\u001b[43m(\u001b[49m\u001b[38;5;124;43m'\u001b[39;49m\u001b[38;5;124;43m../data/rainfall-monthly-highest-daily-total.csv\u001b[39;49m\u001b[38;5;124;43m'\u001b[39;49m\u001b[43m)\u001b[49m\n\u001b[1;32m      3\u001b[0m mthly_rainy_days \u001b[38;5;241m=\u001b[39m pd\u001b[38;5;241m.\u001b[39mread_csv(\u001b[38;5;124m'\u001b[39m\u001b[38;5;124m../data/rainfall-monthly-number-of-rain-days.csv\u001b[39m\u001b[38;5;124m'\u001b[39m)\n\u001b[1;32m      4\u001b[0m mthly_rainfall_total \u001b[38;5;241m=\u001b[39m pd\u001b[38;5;241m.\u001b[39mread_csv(\u001b[38;5;124m'\u001b[39m\u001b[38;5;124m../data/rainfall-monthly-total.csv\u001b[39m\u001b[38;5;124m'\u001b[39m)\n",
      "File \u001b[0;32m~/anaconda3/lib/python3.10/site-packages/pandas/util/_decorators.py:211\u001b[0m, in \u001b[0;36mdeprecate_kwarg.<locals>._deprecate_kwarg.<locals>.wrapper\u001b[0;34m(*args, **kwargs)\u001b[0m\n\u001b[1;32m    209\u001b[0m     \u001b[38;5;28;01melse\u001b[39;00m:\n\u001b[1;32m    210\u001b[0m         kwargs[new_arg_name] \u001b[38;5;241m=\u001b[39m new_arg_value\n\u001b[0;32m--> 211\u001b[0m \u001b[38;5;28;01mreturn\u001b[39;00m \u001b[43mfunc\u001b[49m\u001b[43m(\u001b[49m\u001b[38;5;241;43m*\u001b[39;49m\u001b[43margs\u001b[49m\u001b[43m,\u001b[49m\u001b[43m \u001b[49m\u001b[38;5;241;43m*\u001b[39;49m\u001b[38;5;241;43m*\u001b[39;49m\u001b[43mkwargs\u001b[49m\u001b[43m)\u001b[49m\n",
      "File \u001b[0;32m~/anaconda3/lib/python3.10/site-packages/pandas/util/_decorators.py:331\u001b[0m, in \u001b[0;36mdeprecate_nonkeyword_arguments.<locals>.decorate.<locals>.wrapper\u001b[0;34m(*args, **kwargs)\u001b[0m\n\u001b[1;32m    325\u001b[0m \u001b[38;5;28;01mif\u001b[39;00m \u001b[38;5;28mlen\u001b[39m(args) \u001b[38;5;241m>\u001b[39m num_allow_args:\n\u001b[1;32m    326\u001b[0m     warnings\u001b[38;5;241m.\u001b[39mwarn(\n\u001b[1;32m    327\u001b[0m         msg\u001b[38;5;241m.\u001b[39mformat(arguments\u001b[38;5;241m=\u001b[39m_format_argument_list(allow_args)),\n\u001b[1;32m    328\u001b[0m         \u001b[38;5;167;01mFutureWarning\u001b[39;00m,\n\u001b[1;32m    329\u001b[0m         stacklevel\u001b[38;5;241m=\u001b[39mfind_stack_level(),\n\u001b[1;32m    330\u001b[0m     )\n\u001b[0;32m--> 331\u001b[0m \u001b[38;5;28;01mreturn\u001b[39;00m \u001b[43mfunc\u001b[49m\u001b[43m(\u001b[49m\u001b[38;5;241;43m*\u001b[39;49m\u001b[43margs\u001b[49m\u001b[43m,\u001b[49m\u001b[43m \u001b[49m\u001b[38;5;241;43m*\u001b[39;49m\u001b[38;5;241;43m*\u001b[39;49m\u001b[43mkwargs\u001b[49m\u001b[43m)\u001b[49m\n",
      "File \u001b[0;32m~/anaconda3/lib/python3.10/site-packages/pandas/io/parsers/readers.py:950\u001b[0m, in \u001b[0;36mread_csv\u001b[0;34m(filepath_or_buffer, sep, delimiter, header, names, index_col, usecols, squeeze, prefix, mangle_dupe_cols, dtype, engine, converters, true_values, false_values, skipinitialspace, skiprows, skipfooter, nrows, na_values, keep_default_na, na_filter, verbose, skip_blank_lines, parse_dates, infer_datetime_format, keep_date_col, date_parser, dayfirst, cache_dates, iterator, chunksize, compression, thousands, decimal, lineterminator, quotechar, quoting, doublequote, escapechar, comment, encoding, encoding_errors, dialect, error_bad_lines, warn_bad_lines, on_bad_lines, delim_whitespace, low_memory, memory_map, float_precision, storage_options)\u001b[0m\n\u001b[1;32m    935\u001b[0m kwds_defaults \u001b[38;5;241m=\u001b[39m _refine_defaults_read(\n\u001b[1;32m    936\u001b[0m     dialect,\n\u001b[1;32m    937\u001b[0m     delimiter,\n\u001b[0;32m   (...)\u001b[0m\n\u001b[1;32m    946\u001b[0m     defaults\u001b[38;5;241m=\u001b[39m{\u001b[38;5;124m\"\u001b[39m\u001b[38;5;124mdelimiter\u001b[39m\u001b[38;5;124m\"\u001b[39m: \u001b[38;5;124m\"\u001b[39m\u001b[38;5;124m,\u001b[39m\u001b[38;5;124m\"\u001b[39m},\n\u001b[1;32m    947\u001b[0m )\n\u001b[1;32m    948\u001b[0m kwds\u001b[38;5;241m.\u001b[39mupdate(kwds_defaults)\n\u001b[0;32m--> 950\u001b[0m \u001b[38;5;28;01mreturn\u001b[39;00m \u001b[43m_read\u001b[49m\u001b[43m(\u001b[49m\u001b[43mfilepath_or_buffer\u001b[49m\u001b[43m,\u001b[49m\u001b[43m \u001b[49m\u001b[43mkwds\u001b[49m\u001b[43m)\u001b[49m\n",
      "File \u001b[0;32m~/anaconda3/lib/python3.10/site-packages/pandas/io/parsers/readers.py:605\u001b[0m, in \u001b[0;36m_read\u001b[0;34m(filepath_or_buffer, kwds)\u001b[0m\n\u001b[1;32m    602\u001b[0m _validate_names(kwds\u001b[38;5;241m.\u001b[39mget(\u001b[38;5;124m\"\u001b[39m\u001b[38;5;124mnames\u001b[39m\u001b[38;5;124m\"\u001b[39m, \u001b[38;5;28;01mNone\u001b[39;00m))\n\u001b[1;32m    604\u001b[0m \u001b[38;5;66;03m# Create the parser.\u001b[39;00m\n\u001b[0;32m--> 605\u001b[0m parser \u001b[38;5;241m=\u001b[39m \u001b[43mTextFileReader\u001b[49m\u001b[43m(\u001b[49m\u001b[43mfilepath_or_buffer\u001b[49m\u001b[43m,\u001b[49m\u001b[43m \u001b[49m\u001b[38;5;241;43m*\u001b[39;49m\u001b[38;5;241;43m*\u001b[39;49m\u001b[43mkwds\u001b[49m\u001b[43m)\u001b[49m\n\u001b[1;32m    607\u001b[0m \u001b[38;5;28;01mif\u001b[39;00m chunksize \u001b[38;5;129;01mor\u001b[39;00m iterator:\n\u001b[1;32m    608\u001b[0m     \u001b[38;5;28;01mreturn\u001b[39;00m parser\n",
      "File \u001b[0;32m~/anaconda3/lib/python3.10/site-packages/pandas/io/parsers/readers.py:1442\u001b[0m, in \u001b[0;36mTextFileReader.__init__\u001b[0;34m(self, f, engine, **kwds)\u001b[0m\n\u001b[1;32m   1439\u001b[0m     \u001b[38;5;28mself\u001b[39m\u001b[38;5;241m.\u001b[39moptions[\u001b[38;5;124m\"\u001b[39m\u001b[38;5;124mhas_index_names\u001b[39m\u001b[38;5;124m\"\u001b[39m] \u001b[38;5;241m=\u001b[39m kwds[\u001b[38;5;124m\"\u001b[39m\u001b[38;5;124mhas_index_names\u001b[39m\u001b[38;5;124m\"\u001b[39m]\n\u001b[1;32m   1441\u001b[0m \u001b[38;5;28mself\u001b[39m\u001b[38;5;241m.\u001b[39mhandles: IOHandles \u001b[38;5;241m|\u001b[39m \u001b[38;5;28;01mNone\u001b[39;00m \u001b[38;5;241m=\u001b[39m \u001b[38;5;28;01mNone\u001b[39;00m\n\u001b[0;32m-> 1442\u001b[0m \u001b[38;5;28mself\u001b[39m\u001b[38;5;241m.\u001b[39m_engine \u001b[38;5;241m=\u001b[39m \u001b[38;5;28;43mself\u001b[39;49m\u001b[38;5;241;43m.\u001b[39;49m\u001b[43m_make_engine\u001b[49m\u001b[43m(\u001b[49m\u001b[43mf\u001b[49m\u001b[43m,\u001b[49m\u001b[43m \u001b[49m\u001b[38;5;28;43mself\u001b[39;49m\u001b[38;5;241;43m.\u001b[39;49m\u001b[43mengine\u001b[49m\u001b[43m)\u001b[49m\n",
      "File \u001b[0;32m~/anaconda3/lib/python3.10/site-packages/pandas/io/parsers/readers.py:1735\u001b[0m, in \u001b[0;36mTextFileReader._make_engine\u001b[0;34m(self, f, engine)\u001b[0m\n\u001b[1;32m   1733\u001b[0m     \u001b[38;5;28;01mif\u001b[39;00m \u001b[38;5;124m\"\u001b[39m\u001b[38;5;124mb\u001b[39m\u001b[38;5;124m\"\u001b[39m \u001b[38;5;129;01mnot\u001b[39;00m \u001b[38;5;129;01min\u001b[39;00m mode:\n\u001b[1;32m   1734\u001b[0m         mode \u001b[38;5;241m+\u001b[39m\u001b[38;5;241m=\u001b[39m \u001b[38;5;124m\"\u001b[39m\u001b[38;5;124mb\u001b[39m\u001b[38;5;124m\"\u001b[39m\n\u001b[0;32m-> 1735\u001b[0m \u001b[38;5;28mself\u001b[39m\u001b[38;5;241m.\u001b[39mhandles \u001b[38;5;241m=\u001b[39m \u001b[43mget_handle\u001b[49m\u001b[43m(\u001b[49m\n\u001b[1;32m   1736\u001b[0m \u001b[43m    \u001b[49m\u001b[43mf\u001b[49m\u001b[43m,\u001b[49m\n\u001b[1;32m   1737\u001b[0m \u001b[43m    \u001b[49m\u001b[43mmode\u001b[49m\u001b[43m,\u001b[49m\n\u001b[1;32m   1738\u001b[0m \u001b[43m    \u001b[49m\u001b[43mencoding\u001b[49m\u001b[38;5;241;43m=\u001b[39;49m\u001b[38;5;28;43mself\u001b[39;49m\u001b[38;5;241;43m.\u001b[39;49m\u001b[43moptions\u001b[49m\u001b[38;5;241;43m.\u001b[39;49m\u001b[43mget\u001b[49m\u001b[43m(\u001b[49m\u001b[38;5;124;43m\"\u001b[39;49m\u001b[38;5;124;43mencoding\u001b[39;49m\u001b[38;5;124;43m\"\u001b[39;49m\u001b[43m,\u001b[49m\u001b[43m \u001b[49m\u001b[38;5;28;43;01mNone\u001b[39;49;00m\u001b[43m)\u001b[49m\u001b[43m,\u001b[49m\n\u001b[1;32m   1739\u001b[0m \u001b[43m    \u001b[49m\u001b[43mcompression\u001b[49m\u001b[38;5;241;43m=\u001b[39;49m\u001b[38;5;28;43mself\u001b[39;49m\u001b[38;5;241;43m.\u001b[39;49m\u001b[43moptions\u001b[49m\u001b[38;5;241;43m.\u001b[39;49m\u001b[43mget\u001b[49m\u001b[43m(\u001b[49m\u001b[38;5;124;43m\"\u001b[39;49m\u001b[38;5;124;43mcompression\u001b[39;49m\u001b[38;5;124;43m\"\u001b[39;49m\u001b[43m,\u001b[49m\u001b[43m \u001b[49m\u001b[38;5;28;43;01mNone\u001b[39;49;00m\u001b[43m)\u001b[49m\u001b[43m,\u001b[49m\n\u001b[1;32m   1740\u001b[0m \u001b[43m    \u001b[49m\u001b[43mmemory_map\u001b[49m\u001b[38;5;241;43m=\u001b[39;49m\u001b[38;5;28;43mself\u001b[39;49m\u001b[38;5;241;43m.\u001b[39;49m\u001b[43moptions\u001b[49m\u001b[38;5;241;43m.\u001b[39;49m\u001b[43mget\u001b[49m\u001b[43m(\u001b[49m\u001b[38;5;124;43m\"\u001b[39;49m\u001b[38;5;124;43mmemory_map\u001b[39;49m\u001b[38;5;124;43m\"\u001b[39;49m\u001b[43m,\u001b[49m\u001b[43m \u001b[49m\u001b[38;5;28;43;01mFalse\u001b[39;49;00m\u001b[43m)\u001b[49m\u001b[43m,\u001b[49m\n\u001b[1;32m   1741\u001b[0m \u001b[43m    \u001b[49m\u001b[43mis_text\u001b[49m\u001b[38;5;241;43m=\u001b[39;49m\u001b[43mis_text\u001b[49m\u001b[43m,\u001b[49m\n\u001b[1;32m   1742\u001b[0m \u001b[43m    \u001b[49m\u001b[43merrors\u001b[49m\u001b[38;5;241;43m=\u001b[39;49m\u001b[38;5;28;43mself\u001b[39;49m\u001b[38;5;241;43m.\u001b[39;49m\u001b[43moptions\u001b[49m\u001b[38;5;241;43m.\u001b[39;49m\u001b[43mget\u001b[49m\u001b[43m(\u001b[49m\u001b[38;5;124;43m\"\u001b[39;49m\u001b[38;5;124;43mencoding_errors\u001b[39;49m\u001b[38;5;124;43m\"\u001b[39;49m\u001b[43m,\u001b[49m\u001b[43m \u001b[49m\u001b[38;5;124;43m\"\u001b[39;49m\u001b[38;5;124;43mstrict\u001b[39;49m\u001b[38;5;124;43m\"\u001b[39;49m\u001b[43m)\u001b[49m\u001b[43m,\u001b[49m\n\u001b[1;32m   1743\u001b[0m \u001b[43m    \u001b[49m\u001b[43mstorage_options\u001b[49m\u001b[38;5;241;43m=\u001b[39;49m\u001b[38;5;28;43mself\u001b[39;49m\u001b[38;5;241;43m.\u001b[39;49m\u001b[43moptions\u001b[49m\u001b[38;5;241;43m.\u001b[39;49m\u001b[43mget\u001b[49m\u001b[43m(\u001b[49m\u001b[38;5;124;43m\"\u001b[39;49m\u001b[38;5;124;43mstorage_options\u001b[39;49m\u001b[38;5;124;43m\"\u001b[39;49m\u001b[43m,\u001b[49m\u001b[43m \u001b[49m\u001b[38;5;28;43;01mNone\u001b[39;49;00m\u001b[43m)\u001b[49m\u001b[43m,\u001b[49m\n\u001b[1;32m   1744\u001b[0m \u001b[43m\u001b[49m\u001b[43m)\u001b[49m\n\u001b[1;32m   1745\u001b[0m \u001b[38;5;28;01massert\u001b[39;00m \u001b[38;5;28mself\u001b[39m\u001b[38;5;241m.\u001b[39mhandles \u001b[38;5;129;01mis\u001b[39;00m \u001b[38;5;129;01mnot\u001b[39;00m \u001b[38;5;28;01mNone\u001b[39;00m\n\u001b[1;32m   1746\u001b[0m f \u001b[38;5;241m=\u001b[39m \u001b[38;5;28mself\u001b[39m\u001b[38;5;241m.\u001b[39mhandles\u001b[38;5;241m.\u001b[39mhandle\n",
      "File \u001b[0;32m~/anaconda3/lib/python3.10/site-packages/pandas/io/common.py:856\u001b[0m, in \u001b[0;36mget_handle\u001b[0;34m(path_or_buf, mode, encoding, compression, memory_map, is_text, errors, storage_options)\u001b[0m\n\u001b[1;32m    851\u001b[0m \u001b[38;5;28;01melif\u001b[39;00m \u001b[38;5;28misinstance\u001b[39m(handle, \u001b[38;5;28mstr\u001b[39m):\n\u001b[1;32m    852\u001b[0m     \u001b[38;5;66;03m# Check whether the filename is to be opened in binary mode.\u001b[39;00m\n\u001b[1;32m    853\u001b[0m     \u001b[38;5;66;03m# Binary mode does not support 'encoding' and 'newline'.\u001b[39;00m\n\u001b[1;32m    854\u001b[0m     \u001b[38;5;28;01mif\u001b[39;00m ioargs\u001b[38;5;241m.\u001b[39mencoding \u001b[38;5;129;01mand\u001b[39;00m \u001b[38;5;124m\"\u001b[39m\u001b[38;5;124mb\u001b[39m\u001b[38;5;124m\"\u001b[39m \u001b[38;5;129;01mnot\u001b[39;00m \u001b[38;5;129;01min\u001b[39;00m ioargs\u001b[38;5;241m.\u001b[39mmode:\n\u001b[1;32m    855\u001b[0m         \u001b[38;5;66;03m# Encoding\u001b[39;00m\n\u001b[0;32m--> 856\u001b[0m         handle \u001b[38;5;241m=\u001b[39m \u001b[38;5;28;43mopen\u001b[39;49m\u001b[43m(\u001b[49m\n\u001b[1;32m    857\u001b[0m \u001b[43m            \u001b[49m\u001b[43mhandle\u001b[49m\u001b[43m,\u001b[49m\n\u001b[1;32m    858\u001b[0m \u001b[43m            \u001b[49m\u001b[43mioargs\u001b[49m\u001b[38;5;241;43m.\u001b[39;49m\u001b[43mmode\u001b[49m\u001b[43m,\u001b[49m\n\u001b[1;32m    859\u001b[0m \u001b[43m            \u001b[49m\u001b[43mencoding\u001b[49m\u001b[38;5;241;43m=\u001b[39;49m\u001b[43mioargs\u001b[49m\u001b[38;5;241;43m.\u001b[39;49m\u001b[43mencoding\u001b[49m\u001b[43m,\u001b[49m\n\u001b[1;32m    860\u001b[0m \u001b[43m            \u001b[49m\u001b[43merrors\u001b[49m\u001b[38;5;241;43m=\u001b[39;49m\u001b[43merrors\u001b[49m\u001b[43m,\u001b[49m\n\u001b[1;32m    861\u001b[0m \u001b[43m            \u001b[49m\u001b[43mnewline\u001b[49m\u001b[38;5;241;43m=\u001b[39;49m\u001b[38;5;124;43m\"\u001b[39;49m\u001b[38;5;124;43m\"\u001b[39;49m\u001b[43m,\u001b[49m\n\u001b[1;32m    862\u001b[0m \u001b[43m        \u001b[49m\u001b[43m)\u001b[49m\n\u001b[1;32m    863\u001b[0m     \u001b[38;5;28;01melse\u001b[39;00m:\n\u001b[1;32m    864\u001b[0m         \u001b[38;5;66;03m# Binary mode\u001b[39;00m\n\u001b[1;32m    865\u001b[0m         handle \u001b[38;5;241m=\u001b[39m \u001b[38;5;28mopen\u001b[39m(handle, ioargs\u001b[38;5;241m.\u001b[39mmode)\n",
      "\u001b[0;31mPermissionError\u001b[0m: [Errno 1] Operation not permitted: '../data/rainfall-monthly-highest-daily-total.csv'"
     ]
    }
   ],
   "source": [
    "# Import the csv into a pandas DataFrame\n",
    "h_daily_total = pd.read_csv('../data/rainfall-monthly-highest-daily-total.csv')\n",
    "mthly_rainy_days = pd.read_csv('../data/rainfall-monthly-number-of-rain-days.csv')\n",
    "mthly_rainfall_total = pd.read_csv('../data/rainfall-monthly-total.csv')\n",
    "humidity = pd.read_csv('../data/relative-humidity-monthly-mean.csv')\n",
    "humidity_min = pd.read_csv('../data/relative-humidity-absolute-monthly-extreme-minimum.csv')\n",
    "sunshine = pd.read_csv('../data/sunshine-duration-monthly-mean-daily-duration.csv')\n",
    "s_temp_mean = pd.read_csv('../data/surface-air-temperature-monthly-mean.csv')\n",
    "s_temp_min_mean = pd.read_csv('../data/surface-air-temperature-monthly-mean-daily-minimum.csv')\n",
    "s_temp_max_mean = pd.read_csv('../data/surface-air-temperature-monthly-mean-daily-maximum.csv')\n",
    "wet_bulb_temp = pd.read_csv('../data/wet-bulb-temperature-hourly.csv')\n",
    "work_accidents_years=pd.read_csv('../data/workplace-accidents-years.csv')"
   ]
  },
  {
   "cell_type": "markdown",
   "metadata": {},
   "source": [
    "### Display the data: print the first 5 rows of each dataframe to your Jupyter notebook"
   ]
  },
  {
   "cell_type": "code",
   "execution_count": null,
   "metadata": {},
   "outputs": [],
   "source": [
    "lst_of_df = [h_daily_total, mthly_rainy_days, mthly_rainfall_total, humidity, humidity_min, sunshine, \n",
    "             s_temp_mean, s_temp_min_mean, s_temp_max_mean, wet_bulb_temp,work_accidents_years]\n",
    "\n",
    "for i in lst_of_df:\n",
    "    display(i.head())"
   ]
  },
  {
   "cell_type": "markdown",
   "metadata": {},
   "source": [
    "### Cleaning"
   ]
  },
  {
   "cell_type": "markdown",
   "metadata": {},
   "source": [
    "As part of the EDA process, an abnormal data point was observed for 1986-04-14 where wet_bulb_temp['wbt_time' = 0]. This is likely a data entry error."
   ]
  },
  {
   "cell_type": "code",
   "execution_count": null,
   "metadata": {},
   "outputs": [],
   "source": [
    "wet_bulb_temp[wet_bulb_temp['wbt_time']==0]"
   ]
  },
  {
   "cell_type": "code",
   "execution_count": null,
   "metadata": {},
   "outputs": [],
   "source": [
    "wet_bulb_temp[wet_bulb_temp['wbt_date']=='1986-04-13'].tail(1)"
   ]
  },
  {
   "cell_type": "markdown",
   "metadata": {},
   "source": [
    "Adjust the data entry error. "
   ]
  },
  {
   "cell_type": "code",
   "execution_count": null,
   "metadata": {
    "scrolled": false
   },
   "outputs": [],
   "source": [
    "# fix potential data entry error\n",
    "wet_bulb_temp.loc[wet_bulb_temp['wbt_time'] == 0,'wbt_date']='1986-04-13'\n",
    "wet_bulb_temp.loc[wet_bulb_temp['wbt_time'] == 0,'wbt_time']=24\n",
    "wet_bulb_temp[wet_bulb_temp['wbt_date']=='1986-04-13'].tail(1)"
   ]
  },
  {
   "cell_type": "markdown",
   "metadata": {},
   "source": [
    "Drop columns that are not needed for now."
   ]
  },
  {
   "cell_type": "code",
   "execution_count": null,
   "metadata": {},
   "outputs": [],
   "source": [
    "# drop 'wbt_time' column\n",
    "wet_bulb_temp_copy = wet_bulb_temp\n",
    "wet_bulb_temp_copy = wet_bulb_temp.drop(columns = ['wbt_time'],axis=1)\n",
    "\n",
    "# to convert object to python datetime \n",
    "wet_bulb_temp_copy['wbt_date'] = pd.to_datetime(wet_bulb_temp_copy['wbt_date'])"
   ]
  },
  {
   "cell_type": "markdown",
   "metadata": {},
   "source": [
    "Check that data entry error has been adjusted."
   ]
  },
  {
   "cell_type": "code",
   "execution_count": null,
   "metadata": {},
   "outputs": [],
   "source": [
    "# to check use: wet_bulb_temp.info()\n",
    "wet_bulb_temp[wet_bulb_temp['wbt_time']==0]"
   ]
  },
  {
   "cell_type": "code",
   "execution_count": null,
   "metadata": {},
   "outputs": [],
   "source": [
    "# group the hours / days to month and find mean\n",
    "wb_temp = wet_bulb_temp_copy.resample('M', on=\"wbt_date\").mean()\n",
    "\n",
    "# change the datetime index back into a col instead of index\n",
    "wb_temp.reset_index(inplace=True)\n",
    "\n",
    "# create a new col 'month' with only year-month\n",
    "wb_temp[\"month\"] = wb_temp[\"wbt_date\"].dt.strftime('%Y-%m')\n",
    "\n",
    "# drop wbt_date\n",
    "wb_temp.drop(columns = ['wbt_date'], axis=1, inplace=True)\n",
    "display(wb_temp)"
   ]
  },
  {
   "cell_type": "code",
   "execution_count": null,
   "metadata": {},
   "outputs": [],
   "source": [
    "# Dataset of wet_bulb_temp still shows 'wbt_time'. To be used to compare temp across the day\n",
    "# create new col that shows month of the row\n",
    "wet_bulb_temp['wbt_date'] = pd.to_datetime(wet_bulb_temp['wbt_date'])\n",
    "wet_bulb_temp['month']=wet_bulb_temp['wbt_date'].dt.strftime('%b')"
   ]
  },
  {
   "cell_type": "code",
   "execution_count": null,
   "metadata": {},
   "outputs": [],
   "source": [
    "# copy df without reference (changes to copy will not change original)\n",
    "lst_of_df_copy=lst_of_df[:]\n",
    "# update list of dataframes\n",
    "lst_of_df_copy[-2] = wb_temp \n",
    "\n",
    "# merge all files by month\n",
    "climate = pd.merge(h_daily_total, mthly_rainy_days, on='month', how='inner')\n",
    "\n",
    "for i in lst_of_df_copy[2:-1]: # excl h_daily_total and mthly_rainy_days since done above AND excl work_accidents_years\n",
    "    climate = pd.merge(climate, i, on='month', how='inner')"
   ]
  },
  {
   "cell_type": "code",
   "execution_count": null,
   "metadata": {},
   "outputs": [],
   "source": [
    "# convert month to datetime\n",
    "climate['month'] = pd.to_datetime(climate['month'])\n",
    "climate['month'].info()"
   ]
  },
  {
   "cell_type": "code",
   "execution_count": null,
   "metadata": {},
   "outputs": [],
   "source": [
    "# change name of col: 'month' to 'date'\n",
    "climate.rename(columns={'month': 'date'}, inplace=True)\n",
    "climate.tail()"
   ]
  },
  {
   "cell_type": "markdown",
   "metadata": {},
   "source": [
    "### Merge"
   ]
  },
  {
   "cell_type": "markdown",
   "metadata": {},
   "source": [
    "Merge all weather related datasets together."
   ]
  },
  {
   "cell_type": "code",
   "execution_count": null,
   "metadata": {},
   "outputs": [],
   "source": [
    "# remove 2023 since 2023 not complete year. \n",
    "index_drop_2023=climate[climate['date'].dt.strftime('%Y')=='2023'].index\n",
    "climate.drop(index_drop_2023, inplace=True)\n",
    "climate.tail()"
   ]
  },
  {
   "cell_type": "markdown",
   "metadata": {},
   "source": [
    "Check DataFrame information and null values (if applicable)."
   ]
  },
  {
   "cell_type": "code",
   "execution_count": null,
   "metadata": {},
   "outputs": [],
   "source": [
    "# check data\n",
    "display(climate.info())\n",
    "\n",
    "# check for null\n",
    "display(climate.isnull().sum())"
   ]
  },
  {
   "cell_type": "markdown",
   "metadata": {},
   "source": [
    "Merge weather related dataset with workplace accident dataset"
   ]
  },
  {
   "cell_type": "code",
   "execution_count": null,
   "metadata": {},
   "outputs": [],
   "source": [
    "climate['year'] = climate['date'].dt.strftime('%Y')\n",
    "climate['month'] = climate['date'].dt.strftime('%m')\n",
    "\n",
    "# group the climate data by year and pass .mean()\n",
    "grp_year=climate.groupby(['year']).mean(numeric_only=False)\n",
    "grp_year=grp_year.reset_index()\n",
    "grp_year=pd.DataFrame(grp_year)\n",
    "# convert object to int\n",
    "grp_year['year']=grp_year['year'].astype(str).astype(int)\n",
    "# drop 'month' col\n",
    "grp_year.drop(columns=['month'],inplace=True)"
   ]
  },
  {
   "cell_type": "code",
   "execution_count": null,
   "metadata": {},
   "outputs": [],
   "source": [
    "# group work_accidents_years by 'year','industry','type' and pass .sum() to get total injuries\n",
    "grp_work_acc=work_accidents_years.groupby(['year','industry','type'])['injuries'].sum(numeric_only=True)\n",
    "grp_work_acc=pd.DataFrame(grp_work_acc)\n",
    "grp_work_acc=grp_work_acc.reset_index()\n",
    "\n",
    "# filter for 'Transportation & Storage'\n",
    "grp_work_acc_TS=grp_work_acc.loc[grp_work_acc['industry']=='Transportation & Storage',['year','injuries','type']]\n",
    "\n",
    "# create injury type cols\n",
    "grp_work_acc_TS=grp_work_acc_TS.reset_index(drop=True)\n",
    "grp_work_acc_TS=grp_work_acc_TS.groupby(['year','type']).sum()\n",
    "grp_work_acc_TS=grp_work_acc_TS.unstack(level=-1)\n",
    "grp_work_acc_TS=pd.DataFrame(grp_work_acc_TS)\n",
    "\n",
    "# move col index of 'year' from level 0 to level 1\n",
    "grp_work_acc_TS=grp_work_acc_TS.reset_index(col_level=1)\n",
    "\n",
    "# drop col index 'injuries' at level 0\n",
    "grp_work_acc_TS=grp_work_acc_TS.droplevel(level=0,axis=1)\n",
    "\n",
    "# add new col which is sum of injuries\n",
    "grp_work_acc_TS['sum_injuries_ts']=grp_work_acc_TS.iloc[:,1:].sum(axis=1)"
   ]
  },
  {
   "cell_type": "code",
   "execution_count": null,
   "metadata": {},
   "outputs": [],
   "source": [
    "# join 'grp_work_acc_TS' with 'climate' using merge\n",
    "grp_work_acc_TS = pd.merge(grp_year,grp_work_acc_TS,on='year',how='left')\n",
    "\n",
    "for i in grp_work_acc_TS.columns[1:]:\n",
    "    grp_work_acc_TS_filt=remove_outlier(grp_work_acc_TS, i)"
   ]
  },
  {
   "cell_type": "code",
   "execution_count": null,
   "metadata": {},
   "outputs": [],
   "source": [
    "grp_work_acc_TS_filt=grp_work_acc_TS_filt.rename(columns={'Fatal Injuries': 'fatal_injuries_ts',\n",
    "                                                         'Light Injuries': 'light_injuries_ts',\n",
    "                                                         'Major Injuries': 'major_injuries_ts'})"
   ]
  },
  {
   "cell_type": "code",
   "execution_count": null,
   "metadata": {},
   "outputs": [],
   "source": [
    "# filter for 'Construction'\n",
    "grp_work_acc_Constr=grp_work_acc.loc[grp_work_acc['industry']=='Construction',['year','injuries','type']]\n",
    "\n",
    "# create injury type cols\n",
    "grp_work_acc_Constr=grp_work_acc_Constr.reset_index(drop=True)\n",
    "grp_work_acc_Constr=grp_work_acc_Constr.groupby(['year','type']).sum()\n",
    "grp_work_acc_Constr=grp_work_acc_Constr.unstack(level=-1)\n",
    "grp_work_acc_Constr=pd.DataFrame(grp_work_acc_Constr)\n",
    "\n",
    "# move col index of 'year' from level 0 to level 1\n",
    "grp_work_acc_Constr=grp_work_acc_Constr.reset_index(col_level=1)\n",
    "\n",
    "# drop col index 'injuries' at level 0\n",
    "grp_work_acc_Constr=grp_work_acc_Constr.droplevel(level=0,axis=1)\n",
    "\n",
    "# add new col which is sum of injuries\n",
    "grp_work_acc_Constr['sum_injuries_constr']=grp_work_acc_Constr.iloc[:,1:].sum(axis=1)"
   ]
  },
  {
   "cell_type": "code",
   "execution_count": null,
   "metadata": {},
   "outputs": [],
   "source": [
    "# join 'grp_work_acc_y' with 'grp_work_acc_TS_filt' using merge\n",
    "grp_work_acc_Constr = pd.merge(grp_work_acc_TS_filt,grp_work_acc_Constr,on='year',how='left')\n",
    "\n",
    "for i in grp_work_acc_Constr.columns[1:]:\n",
    "    grp_work_acc_Constr_filt=remove_outlier(grp_work_acc_Constr, i)"
   ]
  },
  {
   "cell_type": "code",
   "execution_count": null,
   "metadata": {},
   "outputs": [],
   "source": [
    "climate_weather_df=grp_work_acc_Constr_filt.rename(columns={'Fatal Injuries': 'fatal_injuries_constr',\n",
    "                                                         'Light Injuries': 'light_injuries_constr',\n",
    "                                                         'Major Injuries': 'major_injuries_constr'})"
   ]
  },
  {
   "cell_type": "markdown",
   "metadata": {},
   "source": [
    "### Save as csv files"
   ]
  },
  {
   "cell_type": "code",
   "execution_count": null,
   "metadata": {},
   "outputs": [],
   "source": [
    "climate.to_csv('../data/climate.csv')\n",
    "climate_weather_df.to_csv('../data/climate_weather_df.csv')"
   ]
  },
  {
   "cell_type": "markdown",
   "metadata": {},
   "source": [
    "### Data Dictionary"
   ]
  },
  {
   "cell_type": "markdown",
   "metadata": {},
   "source": [
    "|Feature|Type|Dataset|Unit of Measure|Description|\n",
    "|:---|:---|:---|:---|:---|\n",
    "|maximum_rainfall_in_a_day|float|h_daily_total|Millimetre|The highest daily total rainfall for the month recorded at the Changi Climate Station.| \n",
    "|no_of_rainy_days|int|mthly_rainy_days|Days|The number of rain days (day with rainfall amount of 0.2mm or more) in a month recorded at the Changi Climate Station.| \n",
    "|total_rainfall|float|mthly_rainfall_total|Millimetre|The total monthly rainfall recorded at the Changi Climate Station.| \n",
    "|mean_rh|float|humidity|Percentage|The monthly mean relative humidity recorded at the Changi Climate Station.| \n",
    "|rh_extremes_minimum|int|humidity_min|Percentage|The absolute extreme minimum relative humidity for the month recorded at the Changi Climate Station.| \n",
    "|mean_sunshine_hrs|float|sunshine|Hours|The monthly mean sunshine hours in a day recorded at the Changi Climate Station.| \n",
    "|mean_temp|float|surface_temp|Degree Celsius|The monthly mean air temperature recorded at the Changi Climate Station.| \n",
    "|temp_mean_daily_min|float|s_temp_min_mean|Degree Celsius|The monthly mean daily minimum temperature recorded at the Changi Climate Station.| \n",
    "|temp_mean_daily_max|float|s_temp_max_mean|Degree Celsius|The monthly mean daily maximum temperature recorded at the Changi Climate Station.| \n",
    "|wet_bulb_temperature|float|wb_temp|Degree Celsius|The monthly mean hourly wet bulb temperature recorded at the Changi Climate Station. Wet bulb temperature mirrors how the human body cools itself with sweat. Note: Found data entry error which was fixed in code.| \n",
    "|injuries|int|work_accidents_years|Cases|The number of cases of work place injuries in a year, grouped by type of injury and industry of workplace.|"
   ]
  },
  {
   "cell_type": "markdown",
   "metadata": {},
   "source": [
    "## Exploratory Data Analysis"
   ]
  },
  {
   "cell_type": "markdown",
   "metadata": {},
   "source": [
    "### Summary Statistics"
   ]
  },
  {
   "cell_type": "code",
   "execution_count": null,
   "metadata": {},
   "outputs": [],
   "source": [
    "# summarize\n",
    "climate.describe()"
   ]
  },
  {
   "cell_type": "markdown",
   "metadata": {},
   "source": [
    "### Dictionary Comprehension"
   ]
  },
  {
   "cell_type": "code",
   "execution_count": null,
   "metadata": {},
   "outputs": [],
   "source": [
    "# using iloc to remove(split) unwanted col (month)\n",
    "my_dict = climate.iloc[:, 1:-2].to_dict('list')\n",
    "\n",
    "# dictionary comprehension\n",
    "sd = {key:std_dev(val) for key, val in my_dict.items()}\n",
    "display(sd)"
   ]
  },
  {
   "cell_type": "markdown",
   "metadata": {},
   "source": [
    "### Investigate trends in the data"
   ]
  },
  {
   "cell_type": "markdown",
   "metadata": {},
   "source": [
    "Which month have the highest and lowest total rainfall in 1990, 2000, 2010 and 2020?"
   ]
  },
  {
   "cell_type": "code",
   "execution_count": null,
   "metadata": {},
   "outputs": [],
   "source": [
    "# group the 'month' by year\n",
    "lst_year_4 = ['1990', '2000', '2010', '2020']\n",
    "for i in lst_year_4:\n",
    "    idx_min = climate.loc[climate[climate['date'].dt.strftime('%Y') == i]['total_rainfall'].idxmin(),'date']\n",
    "    idx_max = climate.loc[climate[climate['date'].dt.strftime('%Y') == i]['total_rainfall'].idxmax(),'date']\n",
    "    print(f'month with lowest total rainfall in {i}: {idx_min.month}')\n",
    "    print(f'month with highest total rainfall in {i}: {idx_max.month}\\n')"
   ]
  },
  {
   "cell_type": "markdown",
   "metadata": {},
   "source": [
    "Which year have the highest and lowest total rainfall in the date range of analysis?"
   ]
  },
  {
   "cell_type": "code",
   "execution_count": null,
   "metadata": {},
   "outputs": [],
   "source": [
    "# group by year and sum total\n",
    "grp_year_total_rainfall = climate.groupby([climate.date.dt.year])['total_rainfall'].sum()\n",
    "\n",
    "print(f'year with lowest total rainfall: {grp_year_total_rainfall.idxmin()}')\n",
    "print(f'year with highest total rainfall: {grp_year_total_rainfall.idxmax()}')"
   ]
  },
  {
   "cell_type": "markdown",
   "metadata": {},
   "source": [
    "List top 5 and bottom 5 years with corresponding total rainfall"
   ]
  },
  {
   "cell_type": "code",
   "execution_count": null,
   "metadata": {},
   "outputs": [],
   "source": [
    "# sort year by highest total rainfall to lowest and list top 5 and bottom 5\n",
    "display(grp_year_total_rainfall[:-1].sort_values(ascending=False).head())\n",
    "display(grp_year_total_rainfall[:-1].sort_values(ascending=False).tail())"
   ]
  },
  {
   "cell_type": "markdown",
   "metadata": {},
   "source": [
    "Which month have the highest and lowest number of rainy days in 1990, 2000, 2010 and 2020?"
   ]
  },
  {
   "cell_type": "code",
   "execution_count": null,
   "metadata": {},
   "outputs": [],
   "source": [
    "# use .month to extract month only data from timestamp\n",
    "lst_year_4 = ['1990', '2000', '2010', '2020']\n",
    "for i in lst_year_4:\n",
    "    lowest_i = climate.loc[climate[climate['date'].dt.strftime('%Y') == i]['no_of_rainy_days'].idxmin(), 'date']\n",
    "    highest_i = climate.loc[climate[climate['date'].dt.strftime('%Y') == i]['no_of_rainy_days'].idxmax(),'date']\n",
    "    print(f'month with lowest number of rainy days in {i}: {lowest_i.month}') \n",
    "    print(f'month with highest number of rainy days in {i}: {highest_i.month}\\n')"
   ]
  },
  {
   "cell_type": "markdown",
   "metadata": {},
   "source": [
    "Which year have the highest and lowest number of rainy days in the date range of analysis?"
   ]
  },
  {
   "cell_type": "code",
   "execution_count": null,
   "metadata": {},
   "outputs": [],
   "source": [
    "total_rain_days = climate.groupby(climate.date.dt.year)['no_of_rainy_days'].sum()\n",
    "print(f'year with lowest number of rainy days: {total_rain_days[:-1].idxmin()}')\n",
    "print(f'year with highest number of rainy days: {total_rain_days[:-1].idxmax()}')"
   ]
  },
  {
   "cell_type": "markdown",
   "metadata": {},
   "source": [
    "List year from highest number of rainy days to lowest and list top 5 and bottom 5"
   ]
  },
  {
   "cell_type": "code",
   "execution_count": null,
   "metadata": {},
   "outputs": [],
   "source": [
    "display(total_rain_days[:-1].sort_values(ascending=False).head())\n",
    "display(total_rain_days[:-1].sort_values(ascending=False).tail())"
   ]
  },
  {
   "cell_type": "markdown",
   "metadata": {},
   "source": [
    "Are there any outliers months in the dataset?"
   ]
  },
  {
   "cell_type": "code",
   "execution_count": null,
   "metadata": {},
   "outputs": [],
   "source": [
    "fig, axes = plt.subplots(2, 1, figsize=(7, 7), sharex=True,gridspec_kw={\"height_ratios\": (.85, .15)})\n",
    "\n",
    "sns.histplot(data=climate,x='maximum_rainfall_in_a_day', kde=True,ax=axes[0], color='cornflowerblue').set(title='Frequency Diagram of Highest Daily Total Rainfall per month',xlabel='Highest Daily Total Rainfall per month (mm)',ylim=(0,100))\n",
    "\n",
    "#plot boxplot\n",
    "sns.boxplot(climate,x='maximum_rainfall_in_a_day',ax=axes[1], color='cornflowerblue').set(title='',xlabel='Highest Daily Total Rainfall per month (mm)')\n",
    "None"
   ]
  },
  {
   "cell_type": "code",
   "execution_count": null,
   "metadata": {},
   "outputs": [],
   "source": [
    "for i in climate.columns[1:-2]:\n",
    "    count_outlier(climate, i)"
   ]
  },
  {
   "cell_type": "markdown",
   "metadata": {},
   "source": [
    "Among the 10 weather related variables, highest daily total rainfall per month ('maximum_rainfall_in_a_day') has the most outliers. "
   ]
  },
  {
   "cell_type": "markdown",
   "metadata": {},
   "source": [
    "## Visualize the Data"
   ]
  },
  {
   "cell_type": "markdown",
   "metadata": {},
   "source": [
    "Heatmap of Correlation of Climate Data - 1982 to 2022, Singapore"
   ]
  },
  {
   "cell_type": "code",
   "execution_count": null,
   "metadata": {},
   "outputs": [],
   "source": [
    "# Use Seaborn's heatmap with pandas .corr() to visualize correlations between all numeric features.\n",
    "plt.figure(figsize=(10,10))\n",
    "plt.title(\"Correlation of Climate Data - 1982 to 2022, Singapore\", loc='left', color='purple', size=14)\n",
    "g = sns.heatmap(climate.corr(numeric_only=False),annot=True)\n",
    "g.set_xticklabels(g.get_xticklabels(), rotation=45, horizontalalignment='right', color='black')\n",
    "None # prevent the list of label objects showing up annoyingly in the output›"
   ]
  },
  {
   "cell_type": "markdown",
   "metadata": {},
   "source": [
    "Is there a correlation between the maximum_rainfall_in_a_day and total_rainfall in the month? "
   ]
  },
  {
   "cell_type": "code",
   "execution_count": null,
   "metadata": {},
   "outputs": [],
   "source": [
    "# Is there a correlation between the maximum_rainfall_in_a_day and total_rainfall in the month? \n",
    "# What kind of correlation do your suspect? Does the graph show the same?\n",
    "df=climate\n",
    "col1='maximum_rainfall_in_a_day'\n",
    "col2='total_rainfall'\n",
    "title='Maximum Daily Rainfall vs Total Rainfall'\n",
    "xlabel='Maximum Daily Rainfall per month (mm)'\n",
    "ylabel='Total Rainfall per month (mm)'\n",
    "remove_outliers_reg(df,col1, col2,title,xlabel,ylabel)"
   ]
  },
  {
   "cell_type": "markdown",
   "metadata": {},
   "source": [
    "Is there a correlation between the maximum_rainfall_in_a_day and mean_rh in the month? "
   ]
  },
  {
   "cell_type": "code",
   "execution_count": null,
   "metadata": {},
   "outputs": [],
   "source": [
    "df=climate\n",
    "col1='maximum_rainfall_in_a_day'\n",
    "col2='mean_rh'\n",
    "title='Maximum Daily Rainfall vs Mean Relative Humidity'\n",
    "xlabel='Maximum Daily Rainfall per month (mm)'\n",
    "ylabel='Mean Relative Humidity (%)'\n",
    "\n",
    "remove_outliers_reg(df,col1, col2,title,xlabel,ylabel)"
   ]
  },
  {
   "cell_type": "markdown",
   "metadata": {},
   "source": [
    "Is there a correlation between the number of rainy days and total_rainfall in the month? "
   ]
  },
  {
   "cell_type": "code",
   "execution_count": null,
   "metadata": {
    "scrolled": false
   },
   "outputs": [],
   "source": [
    "df=climate\n",
    "col1='no_of_rainy_days'\n",
    "col2='total_rainfall'\n",
    "title='No. of Rainy Days vs Total Rainfall'\n",
    "xlabel='No. of Rainy Days per month (Days)'\n",
    "ylabel='Total Rainfall per month (mm)'\n",
    "\n",
    "remove_outliers_reg(df,col1, col2,title,xlabel,ylabel)"
   ]
  },
  {
   "cell_type": "markdown",
   "metadata": {},
   "source": [
    "Is there a correlation between the number of rainy days and mean_rh in the month? "
   ]
  },
  {
   "cell_type": "code",
   "execution_count": null,
   "metadata": {
    "scrolled": false
   },
   "outputs": [],
   "source": [
    "df=climate\n",
    "col1='no_of_rainy_days'\n",
    "col2='mean_rh'\n",
    "title='No. of Rainy Days vs Mean Relative Humidity'\n",
    "xlabel='No. of Rainy Days per month (Days)'\n",
    "ylabel='Mean Relative Humidity per month (%)'\n",
    "\n",
    "remove_outliers_reg(df,col1, col2,title,xlabel,ylabel)"
   ]
  },
  {
   "cell_type": "markdown",
   "metadata": {},
   "source": [
    "Is there a correlation between the number of rainy days and mean_rh in the month?"
   ]
  },
  {
   "cell_type": "code",
   "execution_count": null,
   "metadata": {},
   "outputs": [],
   "source": [
    "df=climate\n",
    "col1='mean_rh'\n",
    "col2='mean_temp'\n",
    "title='Mean Relative Humidity vs Mean Air Temperature'\n",
    "xlabel='Mean Relative Humidity per month (%)'\n",
    "ylabel='Mean Air Temperature per month (Degree Celsius)'\n",
    "\n",
    "remove_outliers_reg(df,col1, col2,title,xlabel,ylabel)"
   ]
  },
  {
   "cell_type": "code",
   "execution_count": null,
   "metadata": {},
   "outputs": [],
   "source": [
    "df=climate\n",
    "col1='mean_sunshine_hrs'\n",
    "col2='no_of_rainy_days'\n",
    "title='Mean Daily Sunshine vs No. of Rainy Days'\n",
    "xlabel='Mean Daily Sunshine per month (Hours)'\n",
    "ylabel='No. of Rainy Days per month (Days)'\n",
    "\n",
    "remove_outliers_reg(df,col1, col2,title,xlabel,ylabel)"
   ]
  },
  {
   "cell_type": "code",
   "execution_count": null,
   "metadata": {},
   "outputs": [],
   "source": [
    "df=climate\n",
    "col1='mean_sunshine_hrs'\n",
    "col2='temp_mean_daily_max'\n",
    "title='Mean Daily Sunshine vs Mean Daily Maximum Temperature'\n",
    "xlabel='Mean Daily Sunshine per month (Hours)'\n",
    "ylabel='Mean Daily Maximum Temperature per month (Degree Celsius)'\n",
    "\n",
    "remove_outliers_reg(df,col1, col2,title,xlabel,ylabel)"
   ]
  },
  {
   "cell_type": "code",
   "execution_count": null,
   "metadata": {},
   "outputs": [],
   "source": [
    "df=climate\n",
    "col1='mean_temp'\n",
    "col2='wet_bulb_temperature'\n",
    "title='Mean Air Temperature vs Mean Hourly Wet Bulb Temperature'\n",
    "xlabel='Mean Air Temperature per month (Degree Celsius)'\n",
    "ylabel='Mean Hourly Wet Bulb Temperature per month (Degree Celsius)'\n",
    "\n",
    "remove_outliers_reg(df,col1, col2,title,xlabel,ylabel)"
   ]
  },
  {
   "cell_type": "markdown",
   "metadata": {},
   "source": [
    "Visualize distribution of 'maximum_rainfall_in_a_day' using histograms and other plots."
   ]
  },
  {
   "cell_type": "code",
   "execution_count": null,
   "metadata": {},
   "outputs": [],
   "source": [
    "col='maximum_rainfall_in_a_day'\n",
    "filt=remove_outlier(climate, col)\n",
    "\n",
    "df=filt\n",
    "\n",
    "#plot subplots\n",
    "fig, axes = plt.subplots(2, 1, figsize=(7, 7), sharex=True,gridspec_kw={\"height_ratios\": (.85, .15)})\n",
    "\n",
    "sns.histplot(data=df,x=col, kde=True,ax=axes[0], color='cornflowerblue').set(title='Frequency Diagram of Highest Daily Total Rainfall per month',xlabel='Highest Daily Total Rainfall per month (mm)',ylim=(0,100))\n",
    "\n",
    "#plot boxplot\n",
    "sns.boxplot(data=df,x=col,ax=axes[1], color='cornflowerblue').set(title='',xlabel='Highest Daily Total Rainfall per month (mm)')\n",
    "None\n",
    "\n",
    "print(statistical_data(df,col))"
   ]
  },
  {
   "cell_type": "code",
   "execution_count": null,
   "metadata": {
    "scrolled": false
   },
   "outputs": [],
   "source": [
    "#create new cols for 'months' and 'years'\n",
    "climate['month'] = climate['date'].dt.strftime('%m')\n",
    "climate['year'] = climate['date'].dt.strftime('%Y')\n",
    "\n",
    "# outliers / anomalies = above OR below mean plus OR minus 1.5 times the standard deviation\n",
    "filt=remove_outlier(climate, 'maximum_rainfall_in_a_day')\n",
    "\n",
    "#create subplots\n",
    "fig, axes = plt.subplots(1, 2, figsize=(16, 5), sharey=True)\n",
    "\n",
    "sns.boxplot(data=filt.sort_values(by='month'), x='month', y='maximum_rainfall_in_a_day', ax=axes[0],color='cornflowerblue', boxprops=dict(alpha=1)).set(title='Highest Daily Total Rainfall Across Months', ylabel='Highest Daily Total Rainfall (mm)')\n",
    "sns.lineplot(data=filt.sort_values(by='month'), x='month', y='maximum_rainfall_in_a_day', ax=axes[0], color = 'orange',errorbar=None).set(title='Highest Daily Total Rainfall Across Months', ylabel='Highest Daily Total Rainfall (mm)')\n",
    "axes[0].set_xticks(range(len(lst_months)),labels=lst_months)\n",
    "\n",
    "sns.boxplot(data=filt.sort_values(by='year'), x='year', y='maximum_rainfall_in_a_day',ax=axes[1],color='cornflowerblue').set(title='Highest Daily Total Rainfall Across Years', ylabel='Highest Daily Total Rainfall (mm)')\n",
    "sns.lineplot(data=filt.sort_values(by='year'), x='year', y='maximum_rainfall_in_a_day',ax=axes[1],color='orange',errorbar=None).set(title='Highest Daily Total Rainfall Across Years', ylabel='Highest Daily Total Rainfall (mm)')\n",
    "\n",
    "axes[1].tick_params(rotation=45, labelsize=6)\n",
    "None"
   ]
  },
  {
   "cell_type": "markdown",
   "metadata": {},
   "source": [
    "Visualize distribution of 'no_of_rainy_days' using histograms and other plots."
   ]
  },
  {
   "cell_type": "code",
   "execution_count": null,
   "metadata": {
    "scrolled": false
   },
   "outputs": [],
   "source": [
    "# outliers / anomalies = above OR below mean plus OR minus 1.5 times the standard deviation\n",
    "col='no_of_rainy_days'\n",
    "filt=remove_outlier(climate, col)\n",
    "\n",
    "df=filt\n",
    "\n",
    "# subplots\n",
    "fig, axes = plt.subplots(2, 1, figsize=(7, 7), sharex=True,gridspec_kw={\"height_ratios\": (.85, .15)})\n",
    "\n",
    "sns.histplot(df,x=col,kde=True,color='cornflowerblue',ax=axes[0]).set(title='No. of Rainy Days per month', xlabel='No. of Rainy Days per month (days)')\n",
    "\n",
    "#plot boxplot\n",
    "sns.boxplot(df,x=col,color='cornflowerblue').set(title='', xlabel='No. of Rainy Days per month (days)')\n",
    "None\n",
    "\n",
    "print(statistical_data(df,col))"
   ]
  },
  {
   "cell_type": "code",
   "execution_count": null,
   "metadata": {},
   "outputs": [],
   "source": [
    "climate['month'] = filt['date'].dt.strftime('%b')\n",
    "climate['year'] = climate['date'].dt.strftime('%Y')\n",
    "\n",
    "# outliers / anomalies = above OR below mean plus OR minus 1.5 times the standard deviation\n",
    "filt=remove_outlier(climate, 'no_of_rainy_days')\n",
    "\n",
    "#create subplots\n",
    "fig, axes = plt.subplots(1, 2, figsize=(16, 5), sharey=True)\n",
    "\n",
    "sns.boxplot(data=filt, x='month', y='no_of_rainy_days', ax=axes[0], color='cornflowerblue',order=lst_months).set(title='No. of Rainy Days Across Months', ylabel='No. of Rainy Days (days)')\n",
    "sns.lineplot(data=filt, x='month', y='no_of_rainy_days', ax=axes[0], color='orange').set(title='No. of Rainy Days Across Months', ylabel='No. of Rainy Days (days)')\n",
    "axes[0].set_xticks(range(len(lst_months)),labels=lst_months)\n",
    "\n",
    "sns.boxplot(data=filt, x='year', y='no_of_rainy_days',ax=axes[1], color='cornflowerblue',order=lst_years).set(title='No. of Rainy Days Across Years', ylabel='No. of Rainy Days (days)')\n",
    "sns.lineplot(data=filt, x='year', y='no_of_rainy_days',ax=axes[1], color='orange').set(title='No. of Rainy Days Across Years', ylabel='No. of Rainy Days (days)')\n",
    "axes[1].tick_params(rotation=45, labelsize=6)\n",
    "None"
   ]
  },
  {
   "cell_type": "markdown",
   "metadata": {},
   "source": [
    "Number of rainy days seems to be getting more erratic through the years. Visualize by plotting standard deviation across periods."
   ]
  },
  {
   "cell_type": "code",
   "execution_count": null,
   "metadata": {},
   "outputs": [],
   "source": [
    "org_df=climate\n",
    "col='no_of_rainy_days'\n",
    "filt_df=remove_outlier(climate, col)\n",
    "period=10\n",
    "title='Standard Deviation of No. of Rainy Days Across the Years'\n",
    "\n",
    "compare_std_period(climate,filt_df,col,period,title)"
   ]
  },
  {
   "cell_type": "markdown",
   "metadata": {},
   "source": [
    "Visualize distribution of 'total_rainfall' using histograms and other plots."
   ]
  },
  {
   "cell_type": "code",
   "execution_count": null,
   "metadata": {
    "scrolled": false
   },
   "outputs": [],
   "source": [
    "# outliers / anomalies = above OR below mean plus OR minus 1.5 times the standard deviation\n",
    "col='total_rainfall'\n",
    "filt=remove_outlier(climate,col)\n",
    "\n",
    "df=filt\n",
    "\n",
    "#plot subplots\n",
    "fig, axes = plt.subplots(2, 1, figsize=(7, 7), sharex=True,gridspec_kw={\"height_ratios\": (.85, .15)})\n",
    "\n",
    "# Plot the histogram.\n",
    "sns.histplot(df,x=col,kde=True,color='cornflowerblue',ax=axes[0]).set(title='Total Rainfall per month',xlabel='Total Rainfall per month (mm)')\n",
    "\n",
    "#plot boxplot\n",
    "sns.boxplot(df,x=col, color='cornflowerblue', ax=axes[1]).set(title='',xlabel='Total Rainfall per month (mm)')\n",
    "None\n",
    "\n",
    "print(statistical_data(df,col))"
   ]
  },
  {
   "cell_type": "code",
   "execution_count": null,
   "metadata": {},
   "outputs": [],
   "source": [
    "climate['month'] = climate['date'].dt.strftime('%m')\n",
    "climate['year'] = climate['date'].dt.strftime('%Y')\n",
    "\n",
    "# outliers / anomalies = above OR below mean plus OR minus 1.5 times the standard deviation\n",
    "filt=remove_outlier(climate, 'total_rainfall')\n",
    "\n",
    "#create subplots\n",
    "fig, axes = plt.subplots(1, 2, figsize=(16, 5), sharey=True)\n",
    "\n",
    "sns.boxplot(data=filt.sort_values(by='month'), x='month', y='total_rainfall', ax=axes[0], color='cornflowerblue').set(title='Total Rainfall Across Months', ylabel='Total Rainfall (mm)')\n",
    "sns.lineplot(data=filt.sort_values(by='month'), x='month', y='total_rainfall', ax=axes[0], color='orange').set(title='Total Rainfall Across Months', ylabel='Total Rainfall (mm)')\n",
    "axes[0].set_xticks(range(len(lst_months)),labels=lst_months)\n",
    "\n",
    "sns.boxplot(data=filt.sort_values(by='year'), x='year', y='total_rainfall',ax=axes[1], color='cornflowerblue').set(title='Total Rainfall Across Years', ylabel='Total Rainfall (mm)')\n",
    "sns.lineplot(data=filt.sort_values(by='year'), x='year', y='total_rainfall',ax=axes[1], color='orange').set(title='Total Rainfall Across Years', ylabel='Total Rainfall (mm)')\n",
    "axes[1].tick_params(rotation=45, labelsize=6)\n",
    "None"
   ]
  },
  {
   "cell_type": "markdown",
   "metadata": {},
   "source": [
    "Visualize distribution of 'mean_rh' using histograms and other plots."
   ]
  },
  {
   "cell_type": "code",
   "execution_count": null,
   "metadata": {},
   "outputs": [],
   "source": [
    "# outliers / anomalies = above OR below mean plus OR minus 1.5 times the standard deviation\n",
    "col='mean_rh'\n",
    "filt=remove_outlier(climate,col)\n",
    "\n",
    "df=filt\n",
    "\n",
    "# subplots\n",
    "fig, axes = plt.subplots(2,1,figsize=(7,7),sharex=True,gridspec_kw={'height_ratios':(0.85,0.15)})\n",
    "\n",
    "# Plot the actual histogram.\n",
    "sns.histplot(df,x=col,kde=True,color='cornflowerblue',ax=axes[0]).set(title='Box Plot of Mean Relative Humidity per month',xlabel='Mean Relative Humidity per month (%)')\n",
    "\n",
    "#plot boxplot\n",
    "sns.boxplot(df,x=col,color='cornflowerblue',ax=axes[1]).set(title='',xlabel='Mean Relative Humidity per month (%)')\n",
    "None\n",
    "\n",
    "print(statistical_data(df,col))"
   ]
  },
  {
   "cell_type": "code",
   "execution_count": null,
   "metadata": {},
   "outputs": [],
   "source": [
    "climate['month'] = climate['date'].dt.strftime('%b')\n",
    "climate['year'] = climate['date'].dt.strftime('%Y')\n",
    "\n",
    "# outliers / anomalies = above OR below mean plus OR minus 1.5 times the standard deviation\n",
    "filt=remove_outlier(climate, 'mean_rh')\n",
    "\n",
    "#create subplots\n",
    "fig, axes = plt.subplots(1, 2, figsize=(16, 5), sharey=True)\n",
    "\n",
    "sns.boxplot(data=filt, x='month', y='mean_rh', ax=axes[0], color='cornflowerblue',order=lst_months).set(title='Mean Relative Humidity Across Months', ylabel='Mean Relative Humidity (%)')\n",
    "sns.lineplot(data=filt, x='month', y='mean_rh', ax=axes[0], color='orange').set(title='Mean Relative Humidity Across Months', ylabel='Mean Relative Humidity (%)')\n",
    "axes[0].set_xticks(range(len(lst_months)),labels=lst_months)\n",
    "\n",
    "sns.boxplot(data=filt, x='year', y='mean_rh',ax=axes[1], color='cornflowerblue',order=lst_years).set(title='Mean Relative Humidity Across Years', ylabel='Mean Relative Humidity (%)')\n",
    "sns.lineplot(data=filt, x='year', y='mean_rh',ax=axes[1], color='orange').set(title='Mean Relative Humidity Across Years', ylabel='Mean Relative Humidity (%)')\n",
    "axes[1].tick_params(rotation=45, labelsize=6)\n",
    "None"
   ]
  },
  {
   "cell_type": "markdown",
   "metadata": {},
   "source": [
    "Large dip in relative humidity levels in recent years. Visualize by plotting relative humidity across periods."
   ]
  },
  {
   "cell_type": "code",
   "execution_count": null,
   "metadata": {
    "scrolled": false
   },
   "outputs": [],
   "source": [
    "climate['year'] = climate['date'].dt.strftime('%Y')\n",
    "filt=remove_outlier(climate, 'mean_rh')\n",
    "df=filt\n",
    "\n",
    "col='mean_rh'\n",
    "period=10\n",
    "title='Mean Relative Humidity Across 10 Year Periods'\n",
    "ylabel='Mean Relative Humidity (%)'\n",
    "start_yr=1982\n",
    "lst_col=['lightsteelblue','royalblue','blue','navy']\n",
    "\n",
    "compare_lineplot_period(df,col,period,title,ylabel,start_yr,lst_col)"
   ]
  },
  {
   "cell_type": "markdown",
   "metadata": {},
   "source": [
    "Mean relative humidity seems to be getting more erratic through the years. Visualize by plotting standard deviation across periods."
   ]
  },
  {
   "cell_type": "code",
   "execution_count": null,
   "metadata": {},
   "outputs": [],
   "source": [
    "org_df=climate\n",
    "col='mean_rh'\n",
    "filt_df=remove_outlier(climate, col)\n",
    "period=10\n",
    "title='Standard Deviation of Mean Relative Humidity Across the Years'\n",
    "\n",
    "compare_std_period(climate,filt_df,col,period,title)"
   ]
  },
  {
   "cell_type": "markdown",
   "metadata": {},
   "source": [
    "Visualize distribution of 'rh_extremes_minimum' using histograms and other plots."
   ]
  },
  {
   "cell_type": "code",
   "execution_count": null,
   "metadata": {
    "scrolled": false
   },
   "outputs": [],
   "source": [
    "col='rh_extremes_minimum'\n",
    "filt=remove_outlier(climate,col)\n",
    "\n",
    "df=filt\n",
    "\n",
    "# subplots\n",
    "fig, axes = plt.subplots(2,1,figsize=(7,7),sharex=True,gridspec_kw={'height_ratios':(0.85,0.15)})\n",
    "\n",
    "# Plot the actual histogram.\n",
    "sns.histplot(df,x=col,kde=True,color='cornflowerblue',ax=axes[0]).set(title='Absolute Extreme Minimum Relative Humidity per month',xlabel='Absolute Extreme Minimum Relative Humidity per month (%)')\n",
    "\n",
    "#plot boxplot\n",
    "sns.boxplot(df,x=col,color='cornflowerblue',ax=axes[1]).set(title='',xlabel='Absolute Extreme Minimum Relative Humidity per month (%)')\n",
    "None\n",
    "\n",
    "print(statistical_data(df,col))"
   ]
  },
  {
   "cell_type": "code",
   "execution_count": null,
   "metadata": {
    "scrolled": false
   },
   "outputs": [],
   "source": [
    "climate['month'] = climate['date'].dt.strftime('%m')\n",
    "climate['year'] = climate['date'].dt.strftime('%Y')\n",
    "\n",
    "# filters\n",
    "filt=remove_outlier(climate, 'rh_extremes_minimum')\n",
    "\n",
    "#create subplots\n",
    "fig, axes = plt.subplots(1, 2, figsize=(16, 5), sharey=True)\n",
    "\n",
    "sns.boxplot(data=filt.sort_values(by='month'), x='month', y='rh_extremes_minimum', ax=axes[0], color='cornflowerblue').set(title='Absolute Extreme Minimum Relative Humidity Across Months', ylabel='Absolute Extreme Minimum Relative Humidity (%)')\n",
    "sns.lineplot(data=filt.sort_values(by='month'), x='month', y='rh_extremes_minimum', ax=axes[0], color='orange').set(title='Absolute Extreme Minimum Relative Humidity Across Months', ylabel='Absolute Extreme Minimum Relative Humidity (%)')\n",
    "axes[0].set_xticks(range(len(lst_months)),labels=lst_months)\n",
    "\n",
    "sns.boxplot(data=filt.sort_values(by='year'), x='year', y='rh_extremes_minimum',ax=axes[1], color='cornflowerblue').set(title='Absolute Extreme Minimum Relative Humidity Across Years', ylabel='Absolute Extreme Minimum Relative Humidity (%)')\n",
    "sns.lineplot(data=filt.sort_values(by='year'), x='year', y='rh_extremes_minimum',ax=axes[1], color='orange').set(title='Absolute Extreme Minimum Relative Humidity Across Years', ylabel='Absolute Extreme Minimum Relative Humidity (%)')\n",
    "axes[1].tick_params(rotation=45, labelsize=6)\n",
    "None"
   ]
  },
  {
   "cell_type": "markdown",
   "metadata": {},
   "source": [
    "Visualize distribution of 'mean_sunshine_hrs' using histograms and other plots."
   ]
  },
  {
   "cell_type": "code",
   "execution_count": null,
   "metadata": {
    "scrolled": false
   },
   "outputs": [],
   "source": [
    "col='mean_sunshine_hrs'\n",
    "filt=remove_outlier(climate,col)\n",
    "\n",
    "df=filt\n",
    "\n",
    "# subplots\n",
    "fig, axes = plt.subplots(2,1,figsize=(7,7),sharex=True,gridspec_kw={'height_ratios':(0.85,0.15)})\n",
    "\n",
    "# Plot the actual histogram.\n",
    "sns.histplot(df,x=col,kde=True,color='firebrick',ax=axes[0]).set(title='Mean Daily Sunshine per month',xlabel='Mean Daily Sunshine per month (Hour)')\n",
    "\n",
    "#plot boxplot\n",
    "sns.boxplot(df,x=col,color='firebrick',ax=axes[1]).set(title='',xlabel='Mean Daily Sunshine per month (Hour)')\n",
    "None\n",
    "\n",
    "print(statistical_data(df,col))"
   ]
  },
  {
   "cell_type": "code",
   "execution_count": null,
   "metadata": {},
   "outputs": [],
   "source": [
    "climate['month'] = climate['date'].dt.strftime('%m')\n",
    "climate['year'] = climate['date'].dt.strftime('%Y')\n",
    "\n",
    "# filters\n",
    "filt=remove_outlier(climate, 'mean_sunshine_hrs')\n",
    "\n",
    "#create subplots\n",
    "fig, axes = plt.subplots(1, 2, figsize=(16, 5), sharey=True)\n",
    "\n",
    "sns.boxplot(data=filt.sort_values(by='month'), x='month', y='mean_sunshine_hrs', ax=axes[0], color='cornflowerblue').set(title='Mean Daily Sunshine Across Months', ylabel='Mean Daily Sunshine (Hour)')\n",
    "sns.lineplot(data=filt.sort_values(by='month'), x='month', y='mean_sunshine_hrs', ax=axes[0], color='orange').set(title='Mean Daily Sunshine Across Months', ylabel='Mean Daily Sunshine (Hour)')\n",
    "axes[0].set_xticks(range(len(lst_months)),labels=lst_months)\n",
    "\n",
    "sns.boxplot(data=filt.sort_values(by='year'), x='year', y='mean_sunshine_hrs',ax=axes[1], color='cornflowerblue').set(title='Mean Daily Sunshine Across Years', ylabel='Mean Daily Sunshine (Hour)')\n",
    "sns.lineplot(data=filt.sort_values(by='year'), x='year', y='mean_sunshine_hrs',ax=axes[1], color='orange').set(title='Mean Daily Sunshine Across Years', ylabel='Mean Daily Sunshine (Hour)')\n",
    "axes[1].tick_params(rotation=45, labelsize=6)\n",
    "None"
   ]
  },
  {
   "cell_type": "markdown",
   "metadata": {},
   "source": [
    "Visualize distribution of 'mean_temp' using histograms and other plots."
   ]
  },
  {
   "cell_type": "code",
   "execution_count": null,
   "metadata": {},
   "outputs": [],
   "source": [
    "col='mean_temp'\n",
    "filt=remove_outlier(climate,col)\n",
    "\n",
    "df=filt\n",
    "\n",
    "# subplot\n",
    "fig, axes = plt.subplots(2,1,figsize=(7,7),sharex=True,gridspec_kw={'height_ratios':(0.85,0.15)})\n",
    "\n",
    "# Plot the actual histogram.\n",
    "sns.histplot(df,x=col,kde=True,color='firebrick',ax=axes[0]).set(title='Mean Air Temperature per month',xlabel='Mean Air Temperature per month (Degree Celsius)')\n",
    "\n",
    "#plot boxplot\n",
    "sns.boxplot(df,x=col, color='firebrick',ax=axes[1]).set(title='',xlabel='Mean Air Temperature per month (Degree Celsius)')\n",
    "None\n",
    "\n",
    "print(statistical_data(df,col))"
   ]
  },
  {
   "cell_type": "code",
   "execution_count": null,
   "metadata": {
    "scrolled": false
   },
   "outputs": [],
   "source": [
    "climate['month'] = climate['date'].dt.strftime('%m')\n",
    "climate['year'] = climate['date'].dt.strftime('%Y')\n",
    "\n",
    "# filters\n",
    "filt=remove_outlier(climate, 'mean_temp')\n",
    "\n",
    "#create subplots\n",
    "fig, axes = plt.subplots(1, 2, figsize=(16, 5), sharey=True)\n",
    "\n",
    "sns.boxplot(data=filt.sort_values(by='month'), x='month', y='mean_temp', ax=axes[0], color='cornflowerblue').set(title='Mean Air Temperature Across Months', ylabel='Mean Air Temperature (Degree Celsius)')\n",
    "sns.lineplot(data=filt.sort_values(by='month'), x='month', y='mean_temp', ax=axes[0], color='orange').set(title='Mean Air Temperature Across Months', ylabel='Mean Air Temperature (Degree Celsius)')\n",
    "axes[0].set_xticks(range(len(lst_months)),labels=lst_months)\n",
    "\n",
    "sns.boxplot(data=filt.sort_values(by='year'), x='year', y='mean_temp',ax=axes[1], color='cornflowerblue').set(title='Mean Air Temperature Across Years', ylabel='Mean Air Temperature (Degree Celsius)')\n",
    "sns.lineplot(data=filt.sort_values(by='year'), x='year', y='mean_temp',ax=axes[1], color='orange').set(title='Mean Air Temperature Across Years', ylabel='Mean Air Temperature (Degree Celsius)')\n",
    "axes[1].tick_params(rotation=45, labelsize=6)\n",
    "None"
   ]
  },
  {
   "cell_type": "markdown",
   "metadata": {},
   "source": [
    "Surge in mean air temperature in recent years. Visualize by plotting mean air temperature across periods."
   ]
  },
  {
   "cell_type": "code",
   "execution_count": null,
   "metadata": {},
   "outputs": [],
   "source": [
    "climate['year'] = climate['date'].dt.strftime('%Y')\n",
    "filt=remove_outlier(climate, 'mean_temp')\n",
    "df=filt\n",
    "\n",
    "col='mean_temp'\n",
    "period=10\n",
    "title='Mean Air Temperature Across 10 Year Periods'\n",
    "ylabel='Mean Air Temperature (Degree Celsius)'\n",
    "start_yr=1982\n",
    "lst_col=['gold','tomato','red','maroon']\n",
    "\n",
    "compare_lineplot_period(df,col,period,title,ylabel,start_yr,lst_col)"
   ]
  },
  {
   "cell_type": "markdown",
   "metadata": {},
   "source": [
    "Through the years, temperature in Singapore has been increasing while relative humidity has been decreasing. From our correlation test above, correlation between mean relative humidity and mean temperature is -0.63 which indicates a strong negative correlation between the two variables. According to the Clausius-Clapeyron equation, the air can generally hold around 7% more moisture for every 1C of temperature rise. Thus, if moisture content is not increasing at the same rate, relative humidity decreases (Willett, 2020)."
   ]
  },
  {
   "cell_type": "markdown",
   "metadata": {},
   "source": [
    "Visualize distribution of 'temp_mean_daily_min' using histograms and other plots."
   ]
  },
  {
   "cell_type": "code",
   "execution_count": null,
   "metadata": {},
   "outputs": [],
   "source": [
    "col='temp_mean_daily_min'\n",
    "filt=remove_outlier(climate,col)\n",
    "\n",
    "df=filt\n",
    "\n",
    "# subplots\n",
    "fig, axes = plt.subplots(2,1,figsize=(7,7),sharex=True,gridspec_kw={'height_ratios':(0.85,0.15)})\n",
    "\n",
    "# Plot the actual histogram.\n",
    "sns.histplot(data=df,x=col,kde=True,color='firebrick',ax=axes[0]).set(title='Mean Daily Minimum Temperature per month',xlabel='Mean Daily Minimum Temperature per month (Degree Celsius)')\n",
    "\n",
    "#plot boxplot\n",
    "sns.boxplot(data=df,x=col,color='firebrick',ax=axes[1]).set(title='',xlabel='Mean Daily Minimum Temperature per month (Degree Celsius)')\n",
    "None\n",
    "\n",
    "print(statistical_data(df,col))"
   ]
  },
  {
   "cell_type": "code",
   "execution_count": null,
   "metadata": {},
   "outputs": [],
   "source": [
    "climate['month'] = climate['date'].dt.strftime('%m')\n",
    "climate['year'] = climate['date'].dt.strftime('%Y')\n",
    "\n",
    "# filters\n",
    "filt=remove_outlier(climate, 'temp_mean_daily_min')\n",
    "\n",
    "#create subplots\n",
    "fig, axes = plt.subplots(1, 2, figsize=(16, 5), sharey=True)\n",
    "\n",
    "sns.boxplot(data=filt.sort_values(by='month'), x='month', y='temp_mean_daily_min', ax=axes[0], color='cornflowerblue').set(title='Mean Daily Minimum Temperature Across Months', ylabel='Mean Daily Minimum Temperature (Degree Celsius)')\n",
    "sns.lineplot(data=filt.sort_values(by='month'), x='month', y='temp_mean_daily_min', ax=axes[0], color='orange').set(title='Mean Daily Minimum Temperature Across Months', ylabel='Mean Daily Minimum Temperature (Degree Celsius)')\n",
    "axes[0].set_xticks(range(len(lst_months)),labels=lst_months)\n",
    "\n",
    "sns.boxplot(data=filt.sort_values(by='year'), x='year', y='temp_mean_daily_min',ax=axes[1], color='cornflowerblue').set(title='Mean Daily Minimum Temperature Across Years', ylabel='Mean Daily Minimum Temperature (Degree Celsius)')\n",
    "sns.lineplot(data=filt.sort_values(by='year'), x='year', y='temp_mean_daily_min',ax=axes[1], color='orange').set(title='Mean Daily Minimum Temperature Across Years', ylabel='Mean Daily Minimum Temperature (Degree Celsius)')\n",
    "axes[1].tick_params(rotation=45, labelsize=6)\n",
    "None"
   ]
  },
  {
   "cell_type": "markdown",
   "metadata": {},
   "source": [
    "Visualize distribution of 'temp_mean_daily_max' using histograms and other plots."
   ]
  },
  {
   "cell_type": "code",
   "execution_count": null,
   "metadata": {},
   "outputs": [],
   "source": [
    "col='temp_mean_daily_max'\n",
    "filt=remove_outlier(climate,col)\n",
    "\n",
    "df=filt\n",
    "\n",
    "# subplots\n",
    "fig, axes = plt.subplots(2,1,figsize=(7,7),sharex=True,gridspec_kw={'height_ratios':(0.85,0.15)})\n",
    "\n",
    "# Plot the actual histogram.\n",
    "sns.histplot(data=df,x=col,kde=True,ax=axes[0],color='firebrick').set(title='Mean Daily Maximum Temperature per month',xlabel='Mean Daily Maximum Temperature per month (Degree Celsius)')\n",
    "\n",
    "#plot boxplot\n",
    "sns.boxplot(data=df,x=col,ax=axes[1],color='firebrick').set(title='',xlabel='Mean Daily Maximum Temperature per month (Degree Celsius)')\n",
    "None\n",
    "\n",
    "print(statistical_data(df,col))"
   ]
  },
  {
   "cell_type": "code",
   "execution_count": null,
   "metadata": {},
   "outputs": [],
   "source": [
    "climate['month'] = climate['date'].dt.strftime('%m')\n",
    "climate['year'] = climate['date'].dt.strftime('%Y')\n",
    "\n",
    "# filters\n",
    "filt=remove_outlier(climate, 'temp_mean_daily_max')\n",
    "\n",
    "#create subplots\n",
    "fig, axes = plt.subplots(1, 2, figsize=(16, 5), sharey=True)\n",
    "\n",
    "sns.boxplot(data=filt.sort_values(by='month'), x='month', y='temp_mean_daily_max', ax=axes[0], color='cornflowerblue').set(title='Mean Daily Maximum Temperature Across Months', ylabel='Mean Daily Maximum Temperature (Degree Celsius)')\n",
    "sns.lineplot(data=filt.sort_values(by='month'), x='month', y='temp_mean_daily_max', ax=axes[0], color='orange').set(title='Mean Daily Maximum Temperature Across Months', ylabel='Mean Daily Maximum Temperature (Degree Celsius)')\n",
    "axes[0].set_xticks(range(len(lst_months)),labels=lst_months)\n",
    "\n",
    "sns.boxplot(data=filt.sort_values(by='year'), x='year', y='temp_mean_daily_max',ax=axes[1], color='cornflowerblue').set(title='Mean Daily Maximum Temperature Across Years', ylabel='Mean Daily Maximum Temperature (Degree Celsius)')\n",
    "sns.lineplot(data=filt.sort_values(by='year'), x='year', y='temp_mean_daily_max',ax=axes[1], color='orange').set(title='Mean Daily Maximum Temperature Across Years', ylabel='Mean Daily Maximum Temperature (Degree Celsius)')\n",
    "axes[1].tick_params(rotation=45, labelsize=6)\n",
    "None"
   ]
  },
  {
   "cell_type": "markdown",
   "metadata": {},
   "source": [
    "Visualize distribution of 'wet_bulb_temperature' using histograms and other plots."
   ]
  },
  {
   "cell_type": "code",
   "execution_count": null,
   "metadata": {},
   "outputs": [],
   "source": [
    "col='wet_bulb_temperature'\n",
    "filt=remove_outlier(climate,col)\n",
    "\n",
    "df=filt\n",
    "\n",
    "# subplots\n",
    "fig, axes = plt.subplots(2,1,figsize=(7,7),sharex=True,gridspec_kw={'height_ratios':(0.85,0.15)})\n",
    "\n",
    "# Plot the actual histogram.\n",
    "sns.histplot(data = df, x=col,kde=True,ax=axes[0],color='firebrick').set(title='Mean Hourly Wet Bulb Temperature per month',xlabel='Mean Hourly Wet Bulb Temperature per month (Degree Celsius)')\n",
    "\n",
    "#plot boxplot\n",
    "sns.boxplot(data = df, x=col,ax=axes[1],color='firebrick').set(title='',xlabel='Mean Hourly Wet Bulb Temperature per month (Degree Celsius)')\n",
    "None\n",
    "\n",
    "print(statistical_data(df,col))"
   ]
  },
  {
   "cell_type": "code",
   "execution_count": null,
   "metadata": {},
   "outputs": [],
   "source": [
    "climate['month'] = climate['date'].dt.strftime('%m')\n",
    "climate['year'] = climate['date'].dt.strftime('%Y')\n",
    "\n",
    "# filters\n",
    "filt=remove_outlier(climate, 'wet_bulb_temperature')\n",
    "\n",
    "#create subplots\n",
    "fig, axes = plt.subplots(1, 2, figsize=(16, 5), sharey=True)\n",
    "\n",
    "sns.boxplot(data=filt.sort_values(by='month'), x='month', y='wet_bulb_temperature', ax=axes[0], color='cornflowerblue').set(title='Wet Bulb Temperature Across Months', ylabel='Wet Bulb Temperature (Degree Celsius)')\n",
    "sns.lineplot(data=filt.sort_values(by='month'), x='month', y='wet_bulb_temperature', ax=axes[0], color='orange').set(title='Wet Bulb Temperature Across Months', ylabel='Wet Bulb Temperature (Degree Celsius)')\n",
    "axes[0].set_xticks(range(len(lst_months)),labels=lst_months)\n",
    "\n",
    "sns.boxplot(data=filt.sort_values(by='year'), x='year', y='wet_bulb_temperature',ax=axes[1], color='cornflowerblue').set(title='Wet Bulb Temperature Across Years', ylabel='Wet Bulb Temperature (Degree Celsius)')\n",
    "sns.lineplot(data=filt.sort_values(by='year'), x='year', y='wet_bulb_temperature',ax=axes[1], color='orange').set(title='Wet Bulb Temperature Across Years', ylabel='Wet Bulb Temperature (Degree Celsius)')\n",
    "axes[1].tick_params(rotation=45, labelsize=6)\n",
    "None"
   ]
  },
  {
   "cell_type": "code",
   "execution_count": null,
   "metadata": {},
   "outputs": [],
   "source": [
    "filt=remove_outlier(wet_bulb_temp, 'wet_bulb_temperature')\n",
    "\n",
    "# plot different months in the same graph\n",
    "sns.lineplot(data=filt,x='wbt_time',y='wet_bulb_temperature',hue='month',palette='Spectral', errorbar=None).set(ylim=(23,27), title='Wet Bulb Temperature Across Day', xlabel='Hour of the Day',ylabel='Wet Bulb Temperature (Degree Celcius)')\n",
    "plt.legend(bbox_to_anchor=(1.01,1), loc='upper left', borderaxespad=0)\n",
    "\n",
    "None"
   ]
  },
  {
   "cell_type": "code",
   "execution_count": null,
   "metadata": {},
   "outputs": [],
   "source": [
    "filt=remove_outlier(wet_bulb_temp, 'wet_bulb_temperature')\n",
    "\n",
    "# mean wet bulb temp across day\n",
    "pal=[\"#6D7A9C\",\"#AAB2C5\",\"#CED3DE\",\"#F3F4F7\",\"#FFFAD6\",\"#FFF5AD\",\"#FFF185\",\"#FFE20A\",\"#FDD25E\",\"#FDC835\",\"#FDBD0D\",'#E24E1B',\"#FDBD0D\",\"#FDC835\",\"#FDD25E\",\"#FFE20A\",\"#FFF185\",\"#FFF5AD\",\"#FFFAD6\",\"#F3F4F7\",\"#CED3DE\",\"#AAB2C5\",\"#6D7A9C\",\"#394053\"]\n",
    "sns.barplot(filt,x='wbt_time',y=wet_bulb_temp['wet_bulb_temperature'],errorbar=None,palette=pal).set(ylim=(24,26), title='Wet Bulb Temperature Across Day', xlabel='Hour of the Day',ylabel='Wet Bulb Temperature (Degree Celcius)')\n",
    "None"
   ]
  },
  {
   "cell_type": "markdown",
   "metadata": {
    "scrolled": false
   },
   "source": [
    "Heatmap of Correlation of Climate Data and Workplace Injuries (Transportation & Storage and Construction)"
   ]
  },
  {
   "cell_type": "code",
   "execution_count": null,
   "metadata": {},
   "outputs": [],
   "source": [
    "plt.figure(figsize=(14,14))\n",
    "plt.title(\"Correlation of Climate Data and Workplace Injuries (Transportation & Storage and Construction)\", loc='left', color='purple', size=14)\n",
    "g = sns.heatmap(climate_weather_df.corr(numeric_only=False),annot=True)\n",
    "g.set_xticklabels(g.get_xticklabels(), rotation=45, horizontalalignment='right', color='black')\n",
    "None # prevent the list of label objects showing up annoyingly in the output›"
   ]
  },
  {
   "cell_type": "code",
   "execution_count": null,
   "metadata": {},
   "outputs": [],
   "source": [
    "df=climate_weather_df\n",
    "col1='wet_bulb_temperature'\n",
    "col2='major_injuries_ts'\n",
    "\n",
    "fig, ax1 = plt.subplots()\n",
    "ax2 = ax1.twinx()\n",
    "sns.lineplot(data=df,x='year',y=col1,ax=ax1,errorbar=None,color='cornflowerblue', legend='auto', label='Wet Bulb Temperature').set(title='Wet Bulb Temperature vs No. of Major Injuries (Transportation & Storage)',ylabel='Wet Bulb Temperature (Degree Celcius)')\n",
    "sns.lineplot(data=df,x='year',y=col2,ax=ax2,errorbar=None,color='orange', legend='auto', label='No. of Major Injuries').set(ylabel='No. of Major Injuries (Cases)')\n",
    "ax1.legend(bbox_to_anchor=(1.15,1), loc='upper left', borderaxespad=0)\n",
    "ax2.legend(bbox_to_anchor=(1.15,0.9), loc='upper left', borderaxespad=0)\n",
    "\n",
    "print(statistical_data(df,col2))\n",
    "print(corr_strength(df,col1,col2))\n",
    "None"
   ]
  },
  {
   "cell_type": "markdown",
   "metadata": {},
   "source": [
    "Correlation between wet bulb temperature and major injuries (Transportation & Storage) is 0.67 which indicates a strong positive correlation between the two variables. This shows that high levels of humidity combined with high temperatures can cause heat exhaustion which leads to an increase in workplace accidents, specifically the transport and storage industry. Wet bulb temperature is typically the highest between the months of April and July.\n",
    "According to Health Canada, \"The hotter and more humid it is, the greater the risk of heat exhaustion. Symptoms include headache, heavy sweating, clammy skin, dizziness or confusion, cramps, rapid breathing, nausea and vomiting, among others\" (McQuillan, 2022).\n",
    "\n",
    "The reason for zooming in on the transport and storage industry is due to the fact that operating a vehicle with such symptoms can lead to major accidents. \n",
    "\n",
    "Interestingly, it can be observed that there is a divergence from the year 2020 to 2022. This is likely due to the  surge in e-commerce, groceries and food deliveries due to COVID-19. While this results in a decreased correlation, this is likely a temporary divergence as COVID-19 restrictions continue to ease and logistics companies learn to cope with the increase in deliveries."
   ]
  },
  {
   "cell_type": "code",
   "execution_count": null,
   "metadata": {
    "scrolled": false
   },
   "outputs": [],
   "source": [
    "df=climate_weather_df\n",
    "col1='no_of_rainy_days'\n",
    "col2='major_injuries_ts'\n",
    "\n",
    "fig, ax1 = plt.subplots()\n",
    "ax2 = ax1.twinx()\n",
    "sns.lineplot(data=df,x='year',y=col1,ax=ax1,errorbar=None,color='cornflowerblue', legend='auto', label='No. of Rainy Days').set(title='No. of Rainy Days vs No. of Major Injuries (Transportation & Storage)',ylabel='No. of Rainy Days per month (Days)')\n",
    "sns.lineplot(data=df,x='year',y=col2,ax=ax2,errorbar=None,color='orange', legend='auto', label='No. of Major Injuries').set(ylabel='No. of Major Injuries (Cases)')\n",
    "ax1.legend(bbox_to_anchor=(1.15,1), loc='upper left', borderaxespad=0)\n",
    "ax2.legend(bbox_to_anchor=(1.15,0.9), loc='upper left', borderaxespad=0)\n",
    "\n",
    "print(statistical_data(df,col2))\n",
    "print(corr_strength(df,col1,col2))\n",
    "None"
   ]
  },
  {
   "cell_type": "code",
   "execution_count": null,
   "metadata": {
    "scrolled": false
   },
   "outputs": [],
   "source": [
    "df=climate_weather_df\n",
    "col1='mean_temp'\n",
    "col2='light_injuries_constr'\n",
    "\n",
    "fig, ax1 = plt.subplots()\n",
    "ax2 = ax1.twinx()\n",
    "sns.lineplot(data=df,x='year',y=col1,ax=ax1,errorbar=None,color='cornflowerblue', legend='auto', label='Mean Air Temperature').set(title='Mean Air Temperature vs No. of Light Injuries (Construction)',ylabel='Mean Air Temperature (Degree Celsius)')\n",
    "sns.lineplot(data=df,x='year',y=col2,ax=ax2,errorbar=None,color='orange', legend='auto', label='No. of Light Injuries').set(ylabel='No. of Light Injuries (Cases)')\n",
    "ax1.legend(bbox_to_anchor=(1.15,1), loc='upper left', borderaxespad=0)\n",
    "ax2.legend(bbox_to_anchor=(1.15,0.9), loc='upper left', borderaxespad=0)\n",
    "\n",
    "print(statistical_data(df,col2))\n",
    "print(corr_strength(df,col1,col2))\n",
    "None"
   ]
  },
  {
   "cell_type": "markdown",
   "metadata": {},
   "source": [
    "Correlation between mean temperature and light injuries (construction industry) is 0.84 which indicates a very strong positive correlation between the two variables. This shows that high temperatures can cause heat exhaustion which leads to an increase in workplace accidents, specifically the construction industry where construction workers perform manual work outdoors with little to no shade."
   ]
  },
  {
   "cell_type": "markdown",
   "metadata": {},
   "source": [
    "## Conclusion and Recommendations"
   ]
  },
  {
   "cell_type": "markdown",
   "metadata": {},
   "source": [
    "Over the years, weather pattern trends in Singapore seem to follow the global average trends, with increasing temperatures, decreasing relative humidity and more erratic weather patterns. While Singapore has not seen extreme weather related disasters causing obvious and visible damage, for example, the California wildfires or the floods in Northen Italy, we are slowly experiencing negative impacts of climate change. As such, literature on global climate trends are still applicable to local context.\n",
    "One such application is workplace safety which is shown in this project to be closely linked to weather patterns and as such, we should proactively seek out implications of climate trends to the insurance industry to prevent adverse selection, improve pricing models and gather marketing insight"
   ]
  },
  {
   "cell_type": "markdown",
   "metadata": {},
   "source": [
    "### Correlation between Mean Temperature and Light Injuries (Construction)"
   ]
  },
  {
   "cell_type": "markdown",
   "metadata": {},
   "source": [
    "With the trend of increasing temperatures across the years, the actuarial team should look into adequately accounting for the increase in temperature to their long-term workplace safety pricing models so that the insurance company does not become susceptible to adverse selection by policyholders, where they unwittingly offer cheaper premiums than competitors who have adequately accounted for the impact brought forth by rising temperatures (Storey et al., 2019).\n",
    "\n",
    "Actuarial team can also develop an Actuaries Climate Index (ACI), which seeks to quantify changes in the climate and is used to make informed decisions."
   ]
  },
  {
   "cell_type": "markdown",
   "metadata": {},
   "source": [
    "### Correlation between Wet Bulb Temperature and Major Injuries (Transportation & Storage)"
   ]
  },
  {
   "cell_type": "markdown",
   "metadata": {},
   "source": [
    "From the graphs plotted above, there are clear patterns across months for wet bulb temperature. Typically, the months between April and July have the highest wet bulb temperature. The actuarial team should look into increasing prices for Collision Damage Waiver (a temporary vehicle insurance one can purchase on a monthly basis to cover a large portion of their insurance premiums, typically around 90%, should they get into an accident) for the months between April and July. This is so that the pricing model does not underestimate the impact of wet bulb temperature on the rate of major accidents in the Transportation & Storage industry. \n",
    "\n",
    "It would also be recommended for the marketing team to increase marketing efforts during periods with expected high wet bulb temperature as transport companies are likely to experience a surge in accidents during those months. Clickthrough rates on advertisements for Collision Damage Waiver ought to be higher as intent is there. This way, the insurance company will beat out competitors to their money by out representing them on advertisement channels specifically for those months, without wasting resources on months with lower wet bulb temperature and thus lower accident rates and consequently lower clickthrough rates."
   ]
  },
  {
   "cell_type": "markdown",
   "metadata": {},
   "source": [
    "## Citations"
   ]
  },
  {
   "cell_type": "markdown",
   "metadata": {},
   "source": [
    "McQuillan, L. (2022, July 20). Too hot to handle: How to survive amid extreme heat and humidity. CBC. Retrieved May 25, 2023, from https://www.cbc.ca/news/health/heat-humidity-bodies-wet-bulb-1.6525711#:~:text=The%20hotter%20and%20more%20humid,others%2C%20according%20to%20Health%20Canada.\n",
    "\n",
    "Medvigy, D., & Beaulieu, C. (2012). Trends in Daily Solar Radiation and Precipitation Coefficients of Variation since 1984. Journal of Climate, Volume 25(Issue 4), 1330–1339. https://doi.org/10.1175/2011JCLI4115.1\n",
    "\n",
    "Park, RJ, Pankratz, N, Behrer, AP (2021) Temperature, workplace safety, and labor market inequality. Discussion Paper Series 14560, IZA Institute of Labor Economics. Retrieved May 25, 2023, from https://ftp.iza.org/dp14560.pdf\n",
    "\n",
    "Storey, C., MacFarlane, A., Spira, J., Davangere, M., Thulliez, M., Bagree, N., Hughes, R., & Watt, S. (2019). Climate Change for Actuaries: An Introduction. Institute and Faculty of Actuaries. Retrieved May 25, 2023, from https://www.actuaries.org.uk/system/files/field/document/Climate-change-report-29072020.pdf\n",
    "\n",
    "Willett, K. (2020, December 1). Guest post: Investigating climate change’s ‘humidity paradox.’ Carbon Brief. Retrieved May 25, 2023, from https://www.carbonbrief.org/guest-post-investigating-climate-changes-humidity-paradox/"
   ]
  }
 ],
 "metadata": {
  "anaconda-cloud": {},
  "kernelspec": {
   "display_name": "Python 3 (ipykernel)",
   "language": "python",
   "name": "python3"
  },
  "language_info": {
   "codemirror_mode": {
    "name": "ipython",
    "version": 3
   },
   "file_extension": ".py",
   "mimetype": "text/x-python",
   "name": "python",
   "nbconvert_exporter": "python",
   "pygments_lexer": "ipython3",
   "version": "3.10.9"
  }
 },
 "nbformat": 4,
 "nbformat_minor": 4
}
